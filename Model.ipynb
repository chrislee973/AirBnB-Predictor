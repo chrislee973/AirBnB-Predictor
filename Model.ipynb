{
 "cells": [
  {
   "cell_type": "code",
   "execution_count": 1,
   "metadata": {},
   "outputs": [],
   "source": [
    "import pandas as pd \n",
    "import numpy as np\n",
    "import matplotlib.pyplot as plt\n",
    "import seaborn as sns \n",
    "import sklearn \n",
    "from sklearn.impute import SimpleImputer\n",
    "from sklearn.model_selection import train_test_split\n",
    "import tensorflow as tf\n",
    "import spacy\n",
    "from spacy.tokenizer import Tokenizer\n",
    "import re\n",
    "import nltk\n",
    "import tensorflow.keras\n",
    "import keras\n",
    "from sklearn.pipeline import make_pipeline\n",
    "from sklearn.feature_extraction.text import TfidfVectorizer, CountVectorizer\n",
    "layers = keras.layers\n",
    "from sklearn.preprocessing import LabelEncoder\n",
    "from sklearn.model_selection import train_test_split\n",
    "from tensorflow.keras.models import Sequential\n",
    "from tensorflow.keras.layers import Dense\n",
    "from sklearn.decomposition import PCA\n",
    "#from tensorflow.keras.preprocessing.text import Tokenizer"
   ]
  },
  {
   "cell_type": "code",
   "execution_count": 2,
   "metadata": {},
   "outputs": [],
   "source": [
    "train = pd.read_csv('./train.csv')\n",
    "test = pd.read_csv('./test.csv')\n",
    "# pd.set_option('display.max_columns', None)\n",
    "# pd.set_option('display.max_rows', None)"
   ]
  },
  {
   "cell_type": "markdown",
   "metadata": {},
   "source": [
    "# Exploration"
   ]
  },
  {
   "cell_type": "code",
   "execution_count": 3,
   "metadata": {},
   "outputs": [],
   "source": [
    "train = train[:20000]\n",
    "test = test[:15000]\n",
    "# test = train[60000:74000]"
   ]
  },
  {
   "cell_type": "code",
   "execution_count": 4,
   "metadata": {
    "scrolled": true
   },
   "outputs": [
    {
     "data": {
      "text/html": [
       "<div>\n",
       "<style scoped>\n",
       "    .dataframe tbody tr th:only-of-type {\n",
       "        vertical-align: middle;\n",
       "    }\n",
       "\n",
       "    .dataframe tbody tr th {\n",
       "        vertical-align: top;\n",
       "    }\n",
       "\n",
       "    .dataframe thead th {\n",
       "        text-align: right;\n",
       "    }\n",
       "</style>\n",
       "<table border=\"1\" class=\"dataframe\">\n",
       "  <thead>\n",
       "    <tr style=\"text-align: right;\">\n",
       "      <th></th>\n",
       "      <th>id</th>\n",
       "      <th>log_price</th>\n",
       "      <th>property_type</th>\n",
       "      <th>room_type</th>\n",
       "      <th>amenities</th>\n",
       "      <th>accommodates</th>\n",
       "      <th>bathrooms</th>\n",
       "      <th>bed_type</th>\n",
       "      <th>cancellation_policy</th>\n",
       "      <th>cleaning_fee</th>\n",
       "      <th>...</th>\n",
       "      <th>latitude</th>\n",
       "      <th>longitude</th>\n",
       "      <th>name</th>\n",
       "      <th>neighbourhood</th>\n",
       "      <th>number_of_reviews</th>\n",
       "      <th>review_scores_rating</th>\n",
       "      <th>thumbnail_url</th>\n",
       "      <th>zipcode</th>\n",
       "      <th>bedrooms</th>\n",
       "      <th>beds</th>\n",
       "    </tr>\n",
       "  </thead>\n",
       "  <tbody>\n",
       "    <tr>\n",
       "      <th>0</th>\n",
       "      <td>6901257</td>\n",
       "      <td>5.010635</td>\n",
       "      <td>Apartment</td>\n",
       "      <td>Entire home/apt</td>\n",
       "      <td>{\"Wireless Internet\",\"Air conditioning\",Kitche...</td>\n",
       "      <td>3</td>\n",
       "      <td>1.0</td>\n",
       "      <td>Real Bed</td>\n",
       "      <td>strict</td>\n",
       "      <td>True</td>\n",
       "      <td>...</td>\n",
       "      <td>40.696524</td>\n",
       "      <td>-73.991617</td>\n",
       "      <td>Beautiful brownstone 1-bedroom</td>\n",
       "      <td>Brooklyn Heights</td>\n",
       "      <td>2</td>\n",
       "      <td>100.0</td>\n",
       "      <td>https://a0.muscache.com/im/pictures/6d7cbbf7-c...</td>\n",
       "      <td>11201</td>\n",
       "      <td>1.0</td>\n",
       "      <td>1.0</td>\n",
       "    </tr>\n",
       "    <tr>\n",
       "      <th>1</th>\n",
       "      <td>6304928</td>\n",
       "      <td>5.129899</td>\n",
       "      <td>Apartment</td>\n",
       "      <td>Entire home/apt</td>\n",
       "      <td>{\"Wireless Internet\",\"Air conditioning\",Kitche...</td>\n",
       "      <td>7</td>\n",
       "      <td>1.0</td>\n",
       "      <td>Real Bed</td>\n",
       "      <td>strict</td>\n",
       "      <td>True</td>\n",
       "      <td>...</td>\n",
       "      <td>40.766115</td>\n",
       "      <td>-73.989040</td>\n",
       "      <td>Superb 3BR Apt Located Near Times Square</td>\n",
       "      <td>Hell's Kitchen</td>\n",
       "      <td>6</td>\n",
       "      <td>93.0</td>\n",
       "      <td>https://a0.muscache.com/im/pictures/348a55fe-4...</td>\n",
       "      <td>10019</td>\n",
       "      <td>3.0</td>\n",
       "      <td>3.0</td>\n",
       "    </tr>\n",
       "    <tr>\n",
       "      <th>2</th>\n",
       "      <td>7919400</td>\n",
       "      <td>4.976734</td>\n",
       "      <td>Apartment</td>\n",
       "      <td>Entire home/apt</td>\n",
       "      <td>{TV,\"Cable TV\",\"Wireless Internet\",\"Air condit...</td>\n",
       "      <td>5</td>\n",
       "      <td>1.0</td>\n",
       "      <td>Real Bed</td>\n",
       "      <td>moderate</td>\n",
       "      <td>True</td>\n",
       "      <td>...</td>\n",
       "      <td>40.808110</td>\n",
       "      <td>-73.943756</td>\n",
       "      <td>The Garden Oasis</td>\n",
       "      <td>Harlem</td>\n",
       "      <td>10</td>\n",
       "      <td>92.0</td>\n",
       "      <td>https://a0.muscache.com/im/pictures/6fae5362-9...</td>\n",
       "      <td>10027</td>\n",
       "      <td>1.0</td>\n",
       "      <td>3.0</td>\n",
       "    </tr>\n",
       "    <tr>\n",
       "      <th>3</th>\n",
       "      <td>13418779</td>\n",
       "      <td>6.620073</td>\n",
       "      <td>House</td>\n",
       "      <td>Entire home/apt</td>\n",
       "      <td>{TV,\"Cable TV\",Internet,\"Wireless Internet\",Ki...</td>\n",
       "      <td>4</td>\n",
       "      <td>1.0</td>\n",
       "      <td>Real Bed</td>\n",
       "      <td>flexible</td>\n",
       "      <td>True</td>\n",
       "      <td>...</td>\n",
       "      <td>37.772004</td>\n",
       "      <td>-122.431619</td>\n",
       "      <td>Beautiful Flat in the Heart of SF!</td>\n",
       "      <td>Lower Haight</td>\n",
       "      <td>0</td>\n",
       "      <td>NaN</td>\n",
       "      <td>https://a0.muscache.com/im/pictures/72208dad-9...</td>\n",
       "      <td>94117.0</td>\n",
       "      <td>2.0</td>\n",
       "      <td>2.0</td>\n",
       "    </tr>\n",
       "    <tr>\n",
       "      <th>4</th>\n",
       "      <td>3808709</td>\n",
       "      <td>4.744932</td>\n",
       "      <td>Apartment</td>\n",
       "      <td>Entire home/apt</td>\n",
       "      <td>{TV,Internet,\"Wireless Internet\",\"Air conditio...</td>\n",
       "      <td>2</td>\n",
       "      <td>1.0</td>\n",
       "      <td>Real Bed</td>\n",
       "      <td>moderate</td>\n",
       "      <td>True</td>\n",
       "      <td>...</td>\n",
       "      <td>38.925627</td>\n",
       "      <td>-77.034596</td>\n",
       "      <td>Great studio in midtown DC</td>\n",
       "      <td>Columbia Heights</td>\n",
       "      <td>4</td>\n",
       "      <td>40.0</td>\n",
       "      <td>NaN</td>\n",
       "      <td>20009</td>\n",
       "      <td>0.0</td>\n",
       "      <td>1.0</td>\n",
       "    </tr>\n",
       "  </tbody>\n",
       "</table>\n",
       "<p>5 rows × 29 columns</p>\n",
       "</div>"
      ],
      "text/plain": [
       "         id  log_price property_type        room_type  \\\n",
       "0   6901257   5.010635     Apartment  Entire home/apt   \n",
       "1   6304928   5.129899     Apartment  Entire home/apt   \n",
       "2   7919400   4.976734     Apartment  Entire home/apt   \n",
       "3  13418779   6.620073         House  Entire home/apt   \n",
       "4   3808709   4.744932     Apartment  Entire home/apt   \n",
       "\n",
       "                                           amenities  accommodates  bathrooms  \\\n",
       "0  {\"Wireless Internet\",\"Air conditioning\",Kitche...             3        1.0   \n",
       "1  {\"Wireless Internet\",\"Air conditioning\",Kitche...             7        1.0   \n",
       "2  {TV,\"Cable TV\",\"Wireless Internet\",\"Air condit...             5        1.0   \n",
       "3  {TV,\"Cable TV\",Internet,\"Wireless Internet\",Ki...             4        1.0   \n",
       "4  {TV,Internet,\"Wireless Internet\",\"Air conditio...             2        1.0   \n",
       "\n",
       "   bed_type cancellation_policy  cleaning_fee  ...   latitude   longitude  \\\n",
       "0  Real Bed              strict          True  ...  40.696524  -73.991617   \n",
       "1  Real Bed              strict          True  ...  40.766115  -73.989040   \n",
       "2  Real Bed            moderate          True  ...  40.808110  -73.943756   \n",
       "3  Real Bed            flexible          True  ...  37.772004 -122.431619   \n",
       "4  Real Bed            moderate          True  ...  38.925627  -77.034596   \n",
       "\n",
       "                                       name     neighbourhood  \\\n",
       "0            Beautiful brownstone 1-bedroom  Brooklyn Heights   \n",
       "1  Superb 3BR Apt Located Near Times Square    Hell's Kitchen   \n",
       "2                          The Garden Oasis            Harlem   \n",
       "3        Beautiful Flat in the Heart of SF!      Lower Haight   \n",
       "4                Great studio in midtown DC  Columbia Heights   \n",
       "\n",
       "  number_of_reviews review_scores_rating  \\\n",
       "0                 2                100.0   \n",
       "1                 6                 93.0   \n",
       "2                10                 92.0   \n",
       "3                 0                  NaN   \n",
       "4                 4                 40.0   \n",
       "\n",
       "                                       thumbnail_url  zipcode bedrooms  beds  \n",
       "0  https://a0.muscache.com/im/pictures/6d7cbbf7-c...    11201      1.0   1.0  \n",
       "1  https://a0.muscache.com/im/pictures/348a55fe-4...    10019      3.0   3.0  \n",
       "2  https://a0.muscache.com/im/pictures/6fae5362-9...    10027      1.0   3.0  \n",
       "3  https://a0.muscache.com/im/pictures/72208dad-9...  94117.0      2.0   2.0  \n",
       "4                                                NaN    20009      0.0   1.0  \n",
       "\n",
       "[5 rows x 29 columns]"
      ]
     },
     "execution_count": 4,
     "metadata": {},
     "output_type": "execute_result"
    }
   ],
   "source": [
    "train.head()"
   ]
  },
  {
   "cell_type": "code",
   "execution_count": 5,
   "metadata": {},
   "outputs": [
    {
     "data": {
      "text/html": [
       "<div>\n",
       "<style scoped>\n",
       "    .dataframe tbody tr th:only-of-type {\n",
       "        vertical-align: middle;\n",
       "    }\n",
       "\n",
       "    .dataframe tbody tr th {\n",
       "        vertical-align: top;\n",
       "    }\n",
       "\n",
       "    .dataframe thead th {\n",
       "        text-align: right;\n",
       "    }\n",
       "</style>\n",
       "<table border=\"1\" class=\"dataframe\">\n",
       "  <thead>\n",
       "    <tr style=\"text-align: right;\">\n",
       "      <th></th>\n",
       "      <th>id</th>\n",
       "      <th>property_type</th>\n",
       "      <th>room_type</th>\n",
       "      <th>amenities</th>\n",
       "      <th>accommodates</th>\n",
       "      <th>bathrooms</th>\n",
       "      <th>bed_type</th>\n",
       "      <th>cancellation_policy</th>\n",
       "      <th>cleaning_fee</th>\n",
       "      <th>city</th>\n",
       "      <th>...</th>\n",
       "      <th>latitude</th>\n",
       "      <th>longitude</th>\n",
       "      <th>name</th>\n",
       "      <th>neighbourhood</th>\n",
       "      <th>number_of_reviews</th>\n",
       "      <th>review_scores_rating</th>\n",
       "      <th>thumbnail_url</th>\n",
       "      <th>zipcode</th>\n",
       "      <th>bedrooms</th>\n",
       "      <th>beds</th>\n",
       "    </tr>\n",
       "  </thead>\n",
       "  <tbody>\n",
       "    <tr>\n",
       "      <th>0</th>\n",
       "      <td>3895911</td>\n",
       "      <td>Apartment</td>\n",
       "      <td>Private room</td>\n",
       "      <td>{TV,\"Cable TV\",Kitchen,\"Free parking on premis...</td>\n",
       "      <td>2</td>\n",
       "      <td>1.0</td>\n",
       "      <td>Real Bed</td>\n",
       "      <td>flexible</td>\n",
       "      <td>True</td>\n",
       "      <td>LA</td>\n",
       "      <td>...</td>\n",
       "      <td>34.028372</td>\n",
       "      <td>-118.494449</td>\n",
       "      <td>Santa Monica Private Bedroom/Bathroom Suite</td>\n",
       "      <td>Santa Monica</td>\n",
       "      <td>6</td>\n",
       "      <td>97.0</td>\n",
       "      <td>https://a0.muscache.com/im/pictures/92355eae-b...</td>\n",
       "      <td>90403</td>\n",
       "      <td>1.0</td>\n",
       "      <td>1.0</td>\n",
       "    </tr>\n",
       "    <tr>\n",
       "      <th>1</th>\n",
       "      <td>9710289</td>\n",
       "      <td>Apartment</td>\n",
       "      <td>Entire home/apt</td>\n",
       "      <td>{TV,\"Cable TV\",\"Wireless Internet\",\"Air condit...</td>\n",
       "      <td>3</td>\n",
       "      <td>1.0</td>\n",
       "      <td>Real Bed</td>\n",
       "      <td>moderate</td>\n",
       "      <td>True</td>\n",
       "      <td>NYC</td>\n",
       "      <td>...</td>\n",
       "      <td>40.720380</td>\n",
       "      <td>-73.942329</td>\n",
       "      <td>Bright, charming luxury 1 BR with amazing rooftop</td>\n",
       "      <td>Williamsburg</td>\n",
       "      <td>2</td>\n",
       "      <td>80.0</td>\n",
       "      <td>https://a0.muscache.com/im/pictures/da03e413-d...</td>\n",
       "      <td>11222</td>\n",
       "      <td>1.0</td>\n",
       "      <td>1.0</td>\n",
       "    </tr>\n",
       "    <tr>\n",
       "      <th>2</th>\n",
       "      <td>9051635</td>\n",
       "      <td>Apartment</td>\n",
       "      <td>Private room</td>\n",
       "      <td>{\"Wireless Internet\",Kitchen,Heating,\"Family/k...</td>\n",
       "      <td>1</td>\n",
       "      <td>1.0</td>\n",
       "      <td>Real Bed</td>\n",
       "      <td>moderate</td>\n",
       "      <td>True</td>\n",
       "      <td>SF</td>\n",
       "      <td>...</td>\n",
       "      <td>37.785434</td>\n",
       "      <td>-122.470284</td>\n",
       "      <td>Private room in charming apartment</td>\n",
       "      <td>Richmond District</td>\n",
       "      <td>2</td>\n",
       "      <td>100.0</td>\n",
       "      <td>https://a0.muscache.com/im/pictures/0ba7d8aa-9...</td>\n",
       "      <td>94118</td>\n",
       "      <td>1.0</td>\n",
       "      <td>1.0</td>\n",
       "    </tr>\n",
       "    <tr>\n",
       "      <th>3</th>\n",
       "      <td>708374</td>\n",
       "      <td>Apartment</td>\n",
       "      <td>Entire home/apt</td>\n",
       "      <td>{TV,\"Cable TV\",Internet,\"Wireless Internet\",\"W...</td>\n",
       "      <td>1</td>\n",
       "      <td>1.0</td>\n",
       "      <td>Real Bed</td>\n",
       "      <td>strict</td>\n",
       "      <td>True</td>\n",
       "      <td>LA</td>\n",
       "      <td>...</td>\n",
       "      <td>33.976026</td>\n",
       "      <td>-118.463471</td>\n",
       "      <td>Marina del Rey Beach Jr 1 Bdrm 5</td>\n",
       "      <td>Marina Del Rey</td>\n",
       "      <td>7</td>\n",
       "      <td>94.0</td>\n",
       "      <td>https://a0.muscache.com/im/pictures/30279741/4...</td>\n",
       "      <td>90292</td>\n",
       "      <td>0.0</td>\n",
       "      <td>1.0</td>\n",
       "    </tr>\n",
       "    <tr>\n",
       "      <th>4</th>\n",
       "      <td>626296</td>\n",
       "      <td>Apartment</td>\n",
       "      <td>Entire home/apt</td>\n",
       "      <td>{TV,Internet,\"Wireless Internet\",\"Air conditio...</td>\n",
       "      <td>2</td>\n",
       "      <td>1.0</td>\n",
       "      <td>Real Bed</td>\n",
       "      <td>flexible</td>\n",
       "      <td>True</td>\n",
       "      <td>NYC</td>\n",
       "      <td>...</td>\n",
       "      <td>40.735573</td>\n",
       "      <td>-74.005996</td>\n",
       "      <td>Bright Studio Loft Prime Location</td>\n",
       "      <td>West Village</td>\n",
       "      <td>0</td>\n",
       "      <td>NaN</td>\n",
       "      <td>https://a0.muscache.com/im/pictures/9384e262-8...</td>\n",
       "      <td>10014</td>\n",
       "      <td>1.0</td>\n",
       "      <td>1.0</td>\n",
       "    </tr>\n",
       "  </tbody>\n",
       "</table>\n",
       "<p>5 rows × 28 columns</p>\n",
       "</div>"
      ],
      "text/plain": [
       "        id property_type        room_type  \\\n",
       "0  3895911     Apartment     Private room   \n",
       "1  9710289     Apartment  Entire home/apt   \n",
       "2  9051635     Apartment     Private room   \n",
       "3   708374     Apartment  Entire home/apt   \n",
       "4   626296     Apartment  Entire home/apt   \n",
       "\n",
       "                                           amenities  accommodates  bathrooms  \\\n",
       "0  {TV,\"Cable TV\",Kitchen,\"Free parking on premis...             2        1.0   \n",
       "1  {TV,\"Cable TV\",\"Wireless Internet\",\"Air condit...             3        1.0   \n",
       "2  {\"Wireless Internet\",Kitchen,Heating,\"Family/k...             1        1.0   \n",
       "3  {TV,\"Cable TV\",Internet,\"Wireless Internet\",\"W...             1        1.0   \n",
       "4  {TV,Internet,\"Wireless Internet\",\"Air conditio...             2        1.0   \n",
       "\n",
       "   bed_type cancellation_policy  cleaning_fee city  ...   latitude  \\\n",
       "0  Real Bed            flexible          True   LA  ...  34.028372   \n",
       "1  Real Bed            moderate          True  NYC  ...  40.720380   \n",
       "2  Real Bed            moderate          True   SF  ...  37.785434   \n",
       "3  Real Bed              strict          True   LA  ...  33.976026   \n",
       "4  Real Bed            flexible          True  NYC  ...  40.735573   \n",
       "\n",
       "    longitude                                               name  \\\n",
       "0 -118.494449        Santa Monica Private Bedroom/Bathroom Suite   \n",
       "1  -73.942329  Bright, charming luxury 1 BR with amazing rooftop   \n",
       "2 -122.470284                 Private room in charming apartment   \n",
       "3 -118.463471                   Marina del Rey Beach Jr 1 Bdrm 5   \n",
       "4  -74.005996                  Bright Studio Loft Prime Location   \n",
       "\n",
       "       neighbourhood number_of_reviews review_scores_rating  \\\n",
       "0       Santa Monica                 6                 97.0   \n",
       "1       Williamsburg                 2                 80.0   \n",
       "2  Richmond District                 2                100.0   \n",
       "3     Marina Del Rey                 7                 94.0   \n",
       "4       West Village                 0                  NaN   \n",
       "\n",
       "                                       thumbnail_url zipcode  bedrooms  beds  \n",
       "0  https://a0.muscache.com/im/pictures/92355eae-b...   90403       1.0   1.0  \n",
       "1  https://a0.muscache.com/im/pictures/da03e413-d...   11222       1.0   1.0  \n",
       "2  https://a0.muscache.com/im/pictures/0ba7d8aa-9...   94118       1.0   1.0  \n",
       "3  https://a0.muscache.com/im/pictures/30279741/4...   90292       0.0   1.0  \n",
       "4  https://a0.muscache.com/im/pictures/9384e262-8...   10014       1.0   1.0  \n",
       "\n",
       "[5 rows x 28 columns]"
      ]
     },
     "execution_count": 5,
     "metadata": {},
     "output_type": "execute_result"
    }
   ],
   "source": [
    "test.head()"
   ]
  },
  {
   "cell_type": "code",
   "execution_count": 6,
   "metadata": {},
   "outputs": [
    {
     "data": {
      "text/plain": [
       "id                          int64\n",
       "log_price                 float64\n",
       "property_type              object\n",
       "room_type                  object\n",
       "amenities                  object\n",
       "accommodates                int64\n",
       "bathrooms                 float64\n",
       "bed_type                   object\n",
       "cancellation_policy        object\n",
       "cleaning_fee                 bool\n",
       "city                       object\n",
       "description                object\n",
       "first_review               object\n",
       "host_has_profile_pic       object\n",
       "host_identity_verified     object\n",
       "host_response_rate         object\n",
       "host_since                 object\n",
       "instant_bookable           object\n",
       "last_review                object\n",
       "latitude                  float64\n",
       "longitude                 float64\n",
       "name                       object\n",
       "neighbourhood              object\n",
       "number_of_reviews           int64\n",
       "review_scores_rating      float64\n",
       "thumbnail_url              object\n",
       "zipcode                    object\n",
       "bedrooms                  float64\n",
       "beds                      float64\n",
       "dtype: object"
      ]
     },
     "execution_count": 6,
     "metadata": {},
     "output_type": "execute_result"
    }
   ],
   "source": [
    "train.dtypes"
   ]
  },
  {
   "cell_type": "code",
   "execution_count": 7,
   "metadata": {},
   "outputs": [
    {
     "data": {
      "text/plain": [
       "(20000, 29)"
      ]
     },
     "execution_count": 7,
     "metadata": {},
     "output_type": "execute_result"
    }
   ],
   "source": [
    "train.shape"
   ]
  },
  {
   "cell_type": "code",
   "execution_count": 8,
   "metadata": {},
   "outputs": [
    {
     "data": {
      "text/plain": [
       "id                           0\n",
       "log_price                    0\n",
       "property_type                0\n",
       "room_type                    0\n",
       "amenities                    0\n",
       "accommodates                 0\n",
       "bathrooms                   61\n",
       "bed_type                     0\n",
       "cancellation_policy          0\n",
       "cleaning_fee                 0\n",
       "city                         0\n",
       "description                  0\n",
       "first_review              4289\n",
       "host_has_profile_pic        57\n",
       "host_identity_verified      57\n",
       "host_response_rate        4978\n",
       "host_since                  57\n",
       "instant_bookable             0\n",
       "last_review               4279\n",
       "latitude                     0\n",
       "longitude                    0\n",
       "name                         0\n",
       "neighbourhood             1793\n",
       "number_of_reviews            0\n",
       "review_scores_rating      4515\n",
       "thumbnail_url             2265\n",
       "zipcode                    243\n",
       "bedrooms                    20\n",
       "beds                        36\n",
       "dtype: int64"
      ]
     },
     "execution_count": 8,
     "metadata": {},
     "output_type": "execute_result"
    }
   ],
   "source": [
    "train.isnull().sum()"
   ]
  },
  {
   "cell_type": "code",
   "execution_count": 9,
   "metadata": {
    "scrolled": false
   },
   "outputs": [
    {
     "data": {
      "text/html": [
       "<div>\n",
       "<style scoped>\n",
       "    .dataframe tbody tr th:only-of-type {\n",
       "        vertical-align: middle;\n",
       "    }\n",
       "\n",
       "    .dataframe tbody tr th {\n",
       "        vertical-align: top;\n",
       "    }\n",
       "\n",
       "    .dataframe thead th {\n",
       "        text-align: right;\n",
       "    }\n",
       "</style>\n",
       "<table border=\"1\" class=\"dataframe\">\n",
       "  <thead>\n",
       "    <tr style=\"text-align: right;\">\n",
       "      <th></th>\n",
       "      <th>id</th>\n",
       "      <th>log_price</th>\n",
       "      <th>accommodates</th>\n",
       "      <th>bathrooms</th>\n",
       "      <th>latitude</th>\n",
       "      <th>longitude</th>\n",
       "      <th>number_of_reviews</th>\n",
       "      <th>review_scores_rating</th>\n",
       "      <th>bedrooms</th>\n",
       "      <th>beds</th>\n",
       "    </tr>\n",
       "  </thead>\n",
       "  <tbody>\n",
       "    <tr>\n",
       "      <th>count</th>\n",
       "      <td>2.000000e+04</td>\n",
       "      <td>20000.000000</td>\n",
       "      <td>20000.000000</td>\n",
       "      <td>19939.000000</td>\n",
       "      <td>20000.000000</td>\n",
       "      <td>20000.000000</td>\n",
       "      <td>20000.000000</td>\n",
       "      <td>15485.000000</td>\n",
       "      <td>19980.000000</td>\n",
       "      <td>19964.000000</td>\n",
       "    </tr>\n",
       "    <tr>\n",
       "      <th>mean</th>\n",
       "      <td>1.124227e+07</td>\n",
       "      <td>4.782304</td>\n",
       "      <td>3.153050</td>\n",
       "      <td>1.234741</td>\n",
       "      <td>38.445588</td>\n",
       "      <td>-92.487212</td>\n",
       "      <td>20.853750</td>\n",
       "      <td>94.068195</td>\n",
       "      <td>1.260460</td>\n",
       "      <td>1.707473</td>\n",
       "    </tr>\n",
       "    <tr>\n",
       "      <th>std</th>\n",
       "      <td>6.084262e+06</td>\n",
       "      <td>0.716564</td>\n",
       "      <td>2.157813</td>\n",
       "      <td>0.586638</td>\n",
       "      <td>3.074681</td>\n",
       "      <td>21.762255</td>\n",
       "      <td>37.943746</td>\n",
       "      <td>7.973364</td>\n",
       "      <td>0.845979</td>\n",
       "      <td>1.245613</td>\n",
       "    </tr>\n",
       "    <tr>\n",
       "      <th>min</th>\n",
       "      <td>2.732000e+03</td>\n",
       "      <td>0.000000</td>\n",
       "      <td>1.000000</td>\n",
       "      <td>0.000000</td>\n",
       "      <td>33.339327</td>\n",
       "      <td>-122.510905</td>\n",
       "      <td>0.000000</td>\n",
       "      <td>20.000000</td>\n",
       "      <td>0.000000</td>\n",
       "      <td>0.000000</td>\n",
       "    </tr>\n",
       "    <tr>\n",
       "      <th>25%</th>\n",
       "      <td>6.208778e+06</td>\n",
       "      <td>4.317488</td>\n",
       "      <td>2.000000</td>\n",
       "      <td>1.000000</td>\n",
       "      <td>34.129272</td>\n",
       "      <td>-118.344217</td>\n",
       "      <td>1.000000</td>\n",
       "      <td>92.000000</td>\n",
       "      <td>1.000000</td>\n",
       "      <td>1.000000</td>\n",
       "    </tr>\n",
       "    <tr>\n",
       "      <th>50%</th>\n",
       "      <td>1.227269e+07</td>\n",
       "      <td>4.709530</td>\n",
       "      <td>2.000000</td>\n",
       "      <td>1.000000</td>\n",
       "      <td>40.663026</td>\n",
       "      <td>-76.995551</td>\n",
       "      <td>6.000000</td>\n",
       "      <td>96.000000</td>\n",
       "      <td>1.000000</td>\n",
       "      <td>1.000000</td>\n",
       "    </tr>\n",
       "    <tr>\n",
       "      <th>75%</th>\n",
       "      <td>1.639416e+07</td>\n",
       "      <td>5.220356</td>\n",
       "      <td>4.000000</td>\n",
       "      <td>1.000000</td>\n",
       "      <td>40.745717</td>\n",
       "      <td>-73.954220</td>\n",
       "      <td>23.000000</td>\n",
       "      <td>100.000000</td>\n",
       "      <td>1.000000</td>\n",
       "      <td>2.000000</td>\n",
       "    </tr>\n",
       "    <tr>\n",
       "      <th>max</th>\n",
       "      <td>2.122746e+07</td>\n",
       "      <td>7.600402</td>\n",
       "      <td>16.000000</td>\n",
       "      <td>8.000000</td>\n",
       "      <td>42.390437</td>\n",
       "      <td>-70.991861</td>\n",
       "      <td>542.000000</td>\n",
       "      <td>100.000000</td>\n",
       "      <td>10.000000</td>\n",
       "      <td>16.000000</td>\n",
       "    </tr>\n",
       "  </tbody>\n",
       "</table>\n",
       "</div>"
      ],
      "text/plain": [
       "                 id     log_price  accommodates     bathrooms      latitude  \\\n",
       "count  2.000000e+04  20000.000000  20000.000000  19939.000000  20000.000000   \n",
       "mean   1.124227e+07      4.782304      3.153050      1.234741     38.445588   \n",
       "std    6.084262e+06      0.716564      2.157813      0.586638      3.074681   \n",
       "min    2.732000e+03      0.000000      1.000000      0.000000     33.339327   \n",
       "25%    6.208778e+06      4.317488      2.000000      1.000000     34.129272   \n",
       "50%    1.227269e+07      4.709530      2.000000      1.000000     40.663026   \n",
       "75%    1.639416e+07      5.220356      4.000000      1.000000     40.745717   \n",
       "max    2.122746e+07      7.600402     16.000000      8.000000     42.390437   \n",
       "\n",
       "          longitude  number_of_reviews  review_scores_rating      bedrooms  \\\n",
       "count  20000.000000       20000.000000          15485.000000  19980.000000   \n",
       "mean     -92.487212          20.853750             94.068195      1.260460   \n",
       "std       21.762255          37.943746              7.973364      0.845979   \n",
       "min     -122.510905           0.000000             20.000000      0.000000   \n",
       "25%     -118.344217           1.000000             92.000000      1.000000   \n",
       "50%      -76.995551           6.000000             96.000000      1.000000   \n",
       "75%      -73.954220          23.000000            100.000000      1.000000   \n",
       "max      -70.991861         542.000000            100.000000     10.000000   \n",
       "\n",
       "               beds  \n",
       "count  19964.000000  \n",
       "mean       1.707473  \n",
       "std        1.245613  \n",
       "min        0.000000  \n",
       "25%        1.000000  \n",
       "50%        1.000000  \n",
       "75%        2.000000  \n",
       "max       16.000000  "
      ]
     },
     "execution_count": 9,
     "metadata": {},
     "output_type": "execute_result"
    }
   ],
   "source": [
    "train.describe()"
   ]
  },
  {
   "cell_type": "code",
   "execution_count": 10,
   "metadata": {
    "scrolled": true
   },
   "outputs": [
    {
     "data": {
      "text/plain": [
       "array(['Apartment', 'House', 'Condominium', 'Loft', 'Townhouse', 'Hostel',\n",
       "       'Guest suite', 'Bed & Breakfast', 'Bungalow', 'Guesthouse', 'Dorm',\n",
       "       'Other', 'Camper/RV', 'Villa', 'Boutique hotel', 'Timeshare',\n",
       "       'In-law', 'Boat', 'Serviced apartment', 'Castle', 'Cabin',\n",
       "       'Treehouse', 'Tipi', 'Vacation home', 'Tent', 'Hut',\n",
       "       'Casa particular', 'Chalet', 'Yurt'], dtype=object)"
      ]
     },
     "execution_count": 10,
     "metadata": {},
     "output_type": "execute_result"
    }
   ],
   "source": [
    "train['property_type'].unique()"
   ]
  },
  {
   "cell_type": "markdown",
   "metadata": {},
   "source": [
    "## Cleaning"
   ]
  },
  {
   "cell_type": "code",
   "execution_count": 11,
   "metadata": {},
   "outputs": [],
   "source": [
    "def clean(df):\n",
    "    \"\"\" \n",
    "    Cleans the dataset\n",
    "    \"\"\"\n",
    "\n",
    "    # encode binary columns\n",
    "    df['host_has_profile_pic'][df['host_has_profile_pic']=='t'] = 1\n",
    "    df['host_has_profile_pic'][df['host_has_profile_pic']=='f'] = 0\n",
    "\n",
    "    df['host_identity_verified'][df['host_identity_verified']=='t'] = 1\n",
    "    df['host_identity_verified'][df['host_identity_verified']=='f'] = 0\n",
    "\n",
    "    df['instant_bookable'][df['instant_bookable']=='t'] = 1\n",
    "    df['instant_bookable'][df['instant_bookable']=='f'] = 0\n",
    "    \n",
    "\n",
    "\n",
    "    # Remove some of the unique property types\n",
    "    df['property_type'][df['property_type'].isin(['Boutique hotel', 'Villa', 'Timeshare',\n",
    "                                                    'In-law', 'Boat', 'Camper/RV', 'Castle', 'Cabin', 'Treehouse',\n",
    "                                                    'Serviced apartment', 'Tipi', 'Hut', 'Vacation home', 'Tent',\n",
    "                                                    'Chalet', 'Yurt', 'Earth House', 'Train', 'Cave', 'Guest suite', 'Dorm',\n",
    "                                                    'Casa particular', 'Parking Space', 'Lighthouse', 'Island'])] = 'Other'\n",
    "    \n",
    "    # Creates price column that isnt in log form\n",
    "#     e = 2.718281828\n",
    "#     df['price'] = e ** df['log_price']\n",
    "    \n",
    "    # Drops useless columns \n",
    "    df = df.drop(['zipcode', 'thumbnail_url', 'host_response_rate',\n",
    "                 'first_review', 'last_review', 'review_scores_rating', 'neighbourhood', 'id',\n",
    "                 'longitude', 'latitude', 'host_since', 'name'], axis = 1)\n",
    "    \n",
    "    return df"
   ]
  },
  {
   "cell_type": "code",
   "execution_count": 12,
   "metadata": {
    "scrolled": false
   },
   "outputs": [
    {
     "name": "stderr",
     "output_type": "stream",
     "text": [
      "<ipython-input-11-1e92a452e819>:8: SettingWithCopyWarning: \n",
      "A value is trying to be set on a copy of a slice from a DataFrame\n",
      "\n",
      "See the caveats in the documentation: https://pandas.pydata.org/pandas-docs/stable/user_guide/indexing.html#returning-a-view-versus-a-copy\n",
      "  df['host_has_profile_pic'][df['host_has_profile_pic']=='f'] = 0\n",
      "<ipython-input-11-1e92a452e819>:11: SettingWithCopyWarning: \n",
      "A value is trying to be set on a copy of a slice from a DataFrame\n",
      "\n",
      "See the caveats in the documentation: https://pandas.pydata.org/pandas-docs/stable/user_guide/indexing.html#returning-a-view-versus-a-copy\n",
      "  df['host_identity_verified'][df['host_identity_verified']=='f'] = 0\n",
      "<ipython-input-11-1e92a452e819>:14: SettingWithCopyWarning: \n",
      "A value is trying to be set on a copy of a slice from a DataFrame\n",
      "\n",
      "See the caveats in the documentation: https://pandas.pydata.org/pandas-docs/stable/user_guide/indexing.html#returning-a-view-versus-a-copy\n",
      "  df['instant_bookable'][df['instant_bookable']=='f'] = 0\n"
     ]
    }
   ],
   "source": [
    "# Applying clean function to both trian and test data\n",
    "train = clean(train)\n",
    "test = clean(test)"
   ]
  },
  {
   "cell_type": "code",
   "execution_count": 13,
   "metadata": {},
   "outputs": [],
   "source": [
    "# Creating price column and dropping log price column from training data\n",
    "e = 2.718281828\n",
    "train['price'] = e ** train['log_price']\n",
    "\n",
    "train = train.drop(['log_price'], axis = 1)"
   ]
  },
  {
   "cell_type": "code",
   "execution_count": 14,
   "metadata": {},
   "outputs": [
    {
     "data": {
      "text/plain": [
       "array([ 1.,  3.,  2.,  7.,  4.,  6.,  5., nan, 10.,  8., 16.,  9., 13.,\n",
       "       12., 11., 14., 15.,  0.])"
      ]
     },
     "execution_count": 14,
     "metadata": {},
     "output_type": "execute_result"
    }
   ],
   "source": [
    "train['beds'].unique()"
   ]
  },
  {
   "cell_type": "code",
   "execution_count": 15,
   "metadata": {
    "scrolled": false
   },
   "outputs": [
    {
     "data": {
      "text/plain": [
       "property_type              0\n",
       "room_type                  0\n",
       "amenities                  0\n",
       "accommodates               0\n",
       "bathrooms                 61\n",
       "bed_type                   0\n",
       "cancellation_policy        0\n",
       "cleaning_fee               0\n",
       "city                       0\n",
       "description                0\n",
       "host_has_profile_pic      57\n",
       "host_identity_verified    57\n",
       "instant_bookable           0\n",
       "number_of_reviews          0\n",
       "bedrooms                  20\n",
       "beds                      36\n",
       "price                      0\n",
       "dtype: int64"
      ]
     },
     "execution_count": 15,
     "metadata": {},
     "output_type": "execute_result"
    }
   ],
   "source": [
    "train.isnull().sum()"
   ]
  },
  {
   "cell_type": "code",
   "execution_count": 16,
   "metadata": {
    "scrolled": true
   },
   "outputs": [
    {
     "data": {
      "text/html": [
       "<div>\n",
       "<style scoped>\n",
       "    .dataframe tbody tr th:only-of-type {\n",
       "        vertical-align: middle;\n",
       "    }\n",
       "\n",
       "    .dataframe tbody tr th {\n",
       "        vertical-align: top;\n",
       "    }\n",
       "\n",
       "    .dataframe thead th {\n",
       "        text-align: right;\n",
       "    }\n",
       "</style>\n",
       "<table border=\"1\" class=\"dataframe\">\n",
       "  <thead>\n",
       "    <tr style=\"text-align: right;\">\n",
       "      <th></th>\n",
       "      <th>property_type</th>\n",
       "      <th>room_type</th>\n",
       "      <th>amenities</th>\n",
       "      <th>accommodates</th>\n",
       "      <th>bathrooms</th>\n",
       "      <th>bed_type</th>\n",
       "      <th>cancellation_policy</th>\n",
       "      <th>cleaning_fee</th>\n",
       "      <th>city</th>\n",
       "      <th>description</th>\n",
       "      <th>host_has_profile_pic</th>\n",
       "      <th>host_identity_verified</th>\n",
       "      <th>instant_bookable</th>\n",
       "      <th>number_of_reviews</th>\n",
       "      <th>bedrooms</th>\n",
       "      <th>beds</th>\n",
       "      <th>price</th>\n",
       "    </tr>\n",
       "  </thead>\n",
       "  <tbody>\n",
       "    <tr>\n",
       "      <th>0</th>\n",
       "      <td>Apartment</td>\n",
       "      <td>Entire home/apt</td>\n",
       "      <td>{\"Wireless Internet\",\"Air conditioning\",Kitche...</td>\n",
       "      <td>3</td>\n",
       "      <td>1.0</td>\n",
       "      <td>Real Bed</td>\n",
       "      <td>strict</td>\n",
       "      <td>True</td>\n",
       "      <td>NYC</td>\n",
       "      <td>Beautiful, sunlit brownstone 1-bedroom in the ...</td>\n",
       "      <td>1</td>\n",
       "      <td>1</td>\n",
       "      <td>0</td>\n",
       "      <td>2</td>\n",
       "      <td>1.0</td>\n",
       "      <td>1.0</td>\n",
       "      <td>150.000000</td>\n",
       "    </tr>\n",
       "    <tr>\n",
       "      <th>1</th>\n",
       "      <td>Apartment</td>\n",
       "      <td>Entire home/apt</td>\n",
       "      <td>{\"Wireless Internet\",\"Air conditioning\",Kitche...</td>\n",
       "      <td>7</td>\n",
       "      <td>1.0</td>\n",
       "      <td>Real Bed</td>\n",
       "      <td>strict</td>\n",
       "      <td>True</td>\n",
       "      <td>NYC</td>\n",
       "      <td>Enjoy travelling during your stay in Manhattan...</td>\n",
       "      <td>1</td>\n",
       "      <td>0</td>\n",
       "      <td>1</td>\n",
       "      <td>6</td>\n",
       "      <td>3.0</td>\n",
       "      <td>3.0</td>\n",
       "      <td>169.000000</td>\n",
       "    </tr>\n",
       "    <tr>\n",
       "      <th>2</th>\n",
       "      <td>Apartment</td>\n",
       "      <td>Entire home/apt</td>\n",
       "      <td>{TV,\"Cable TV\",\"Wireless Internet\",\"Air condit...</td>\n",
       "      <td>5</td>\n",
       "      <td>1.0</td>\n",
       "      <td>Real Bed</td>\n",
       "      <td>moderate</td>\n",
       "      <td>True</td>\n",
       "      <td>NYC</td>\n",
       "      <td>The Oasis comes complete with a full backyard ...</td>\n",
       "      <td>1</td>\n",
       "      <td>1</td>\n",
       "      <td>1</td>\n",
       "      <td>10</td>\n",
       "      <td>1.0</td>\n",
       "      <td>3.0</td>\n",
       "      <td>145.000000</td>\n",
       "    </tr>\n",
       "    <tr>\n",
       "      <th>3</th>\n",
       "      <td>House</td>\n",
       "      <td>Entire home/apt</td>\n",
       "      <td>{TV,\"Cable TV\",Internet,\"Wireless Internet\",Ki...</td>\n",
       "      <td>4</td>\n",
       "      <td>1.0</td>\n",
       "      <td>Real Bed</td>\n",
       "      <td>flexible</td>\n",
       "      <td>True</td>\n",
       "      <td>SF</td>\n",
       "      <td>This light-filled home-away-from-home is super...</td>\n",
       "      <td>1</td>\n",
       "      <td>1</td>\n",
       "      <td>0</td>\n",
       "      <td>0</td>\n",
       "      <td>2.0</td>\n",
       "      <td>2.0</td>\n",
       "      <td>749.999999</td>\n",
       "    </tr>\n",
       "    <tr>\n",
       "      <th>4</th>\n",
       "      <td>Apartment</td>\n",
       "      <td>Entire home/apt</td>\n",
       "      <td>{TV,Internet,\"Wireless Internet\",\"Air conditio...</td>\n",
       "      <td>2</td>\n",
       "      <td>1.0</td>\n",
       "      <td>Real Bed</td>\n",
       "      <td>moderate</td>\n",
       "      <td>True</td>\n",
       "      <td>DC</td>\n",
       "      <td>Cool, cozy, and comfortable studio located in ...</td>\n",
       "      <td>1</td>\n",
       "      <td>1</td>\n",
       "      <td>1</td>\n",
       "      <td>4</td>\n",
       "      <td>0.0</td>\n",
       "      <td>1.0</td>\n",
       "      <td>115.000000</td>\n",
       "    </tr>\n",
       "    <tr>\n",
       "      <th>...</th>\n",
       "      <td>...</td>\n",
       "      <td>...</td>\n",
       "      <td>...</td>\n",
       "      <td>...</td>\n",
       "      <td>...</td>\n",
       "      <td>...</td>\n",
       "      <td>...</td>\n",
       "      <td>...</td>\n",
       "      <td>...</td>\n",
       "      <td>...</td>\n",
       "      <td>...</td>\n",
       "      <td>...</td>\n",
       "      <td>...</td>\n",
       "      <td>...</td>\n",
       "      <td>...</td>\n",
       "      <td>...</td>\n",
       "      <td>...</td>\n",
       "    </tr>\n",
       "    <tr>\n",
       "      <th>495</th>\n",
       "      <td>Apartment</td>\n",
       "      <td>Entire home/apt</td>\n",
       "      <td>{\"Air conditioning\",Kitchen,Elevator,Heating,\"...</td>\n",
       "      <td>4</td>\n",
       "      <td>1.0</td>\n",
       "      <td>Real Bed</td>\n",
       "      <td>flexible</td>\n",
       "      <td>False</td>\n",
       "      <td>NYC</td>\n",
       "      <td>Alcove studio apt in Midtown Manhattan, 1 bloc...</td>\n",
       "      <td>1</td>\n",
       "      <td>0</td>\n",
       "      <td>0</td>\n",
       "      <td>0</td>\n",
       "      <td>0.0</td>\n",
       "      <td>1.0</td>\n",
       "      <td>176.000000</td>\n",
       "    </tr>\n",
       "    <tr>\n",
       "      <th>496</th>\n",
       "      <td>Apartment</td>\n",
       "      <td>Entire home/apt</td>\n",
       "      <td>{Internet,\"Wireless Internet\",\"Air conditionin...</td>\n",
       "      <td>2</td>\n",
       "      <td>1.0</td>\n",
       "      <td>Real Bed</td>\n",
       "      <td>moderate</td>\n",
       "      <td>True</td>\n",
       "      <td>NYC</td>\n",
       "      <td>Large, sun-drenched apartment in pre-war build...</td>\n",
       "      <td>1</td>\n",
       "      <td>0</td>\n",
       "      <td>0</td>\n",
       "      <td>12</td>\n",
       "      <td>1.0</td>\n",
       "      <td>1.0</td>\n",
       "      <td>110.000000</td>\n",
       "    </tr>\n",
       "    <tr>\n",
       "      <th>497</th>\n",
       "      <td>Apartment</td>\n",
       "      <td>Private room</td>\n",
       "      <td>{TV,\"Cable TV\",Internet,\"Wireless Internet\",\"A...</td>\n",
       "      <td>2</td>\n",
       "      <td>1.0</td>\n",
       "      <td>Real Bed</td>\n",
       "      <td>flexible</td>\n",
       "      <td>True</td>\n",
       "      <td>NYC</td>\n",
       "      <td>We live in the Bushwick neighborhood of Brookl...</td>\n",
       "      <td>1</td>\n",
       "      <td>0</td>\n",
       "      <td>0</td>\n",
       "      <td>66</td>\n",
       "      <td>1.0</td>\n",
       "      <td>2.0</td>\n",
       "      <td>49.000000</td>\n",
       "    </tr>\n",
       "    <tr>\n",
       "      <th>498</th>\n",
       "      <td>Apartment</td>\n",
       "      <td>Private room</td>\n",
       "      <td>{\"Family/kid friendly\"}</td>\n",
       "      <td>2</td>\n",
       "      <td>1.0</td>\n",
       "      <td>Real Bed</td>\n",
       "      <td>strict</td>\n",
       "      <td>False</td>\n",
       "      <td>DC</td>\n",
       "      <td>Listed is a cozy room in a 2br, 1ba duplex nea...</td>\n",
       "      <td>1</td>\n",
       "      <td>1</td>\n",
       "      <td>0</td>\n",
       "      <td>1</td>\n",
       "      <td>1.0</td>\n",
       "      <td>1.0</td>\n",
       "      <td>60.000000</td>\n",
       "    </tr>\n",
       "    <tr>\n",
       "      <th>499</th>\n",
       "      <td>Apartment</td>\n",
       "      <td>Entire home/apt</td>\n",
       "      <td>{Internet,\"Wireless Internet\",Kitchen,\"Free pa...</td>\n",
       "      <td>2</td>\n",
       "      <td>1.0</td>\n",
       "      <td>Real Bed</td>\n",
       "      <td>strict</td>\n",
       "      <td>True</td>\n",
       "      <td>LA</td>\n",
       "      <td>This gorgeous &amp; spacious 1920s apartment is a ...</td>\n",
       "      <td>1</td>\n",
       "      <td>1</td>\n",
       "      <td>0</td>\n",
       "      <td>3</td>\n",
       "      <td>1.0</td>\n",
       "      <td>1.0</td>\n",
       "      <td>95.000000</td>\n",
       "    </tr>\n",
       "  </tbody>\n",
       "</table>\n",
       "<p>500 rows × 17 columns</p>\n",
       "</div>"
      ],
      "text/plain": [
       "    property_type        room_type  \\\n",
       "0       Apartment  Entire home/apt   \n",
       "1       Apartment  Entire home/apt   \n",
       "2       Apartment  Entire home/apt   \n",
       "3           House  Entire home/apt   \n",
       "4       Apartment  Entire home/apt   \n",
       "..            ...              ...   \n",
       "495     Apartment  Entire home/apt   \n",
       "496     Apartment  Entire home/apt   \n",
       "497     Apartment     Private room   \n",
       "498     Apartment     Private room   \n",
       "499     Apartment  Entire home/apt   \n",
       "\n",
       "                                             amenities  accommodates  \\\n",
       "0    {\"Wireless Internet\",\"Air conditioning\",Kitche...             3   \n",
       "1    {\"Wireless Internet\",\"Air conditioning\",Kitche...             7   \n",
       "2    {TV,\"Cable TV\",\"Wireless Internet\",\"Air condit...             5   \n",
       "3    {TV,\"Cable TV\",Internet,\"Wireless Internet\",Ki...             4   \n",
       "4    {TV,Internet,\"Wireless Internet\",\"Air conditio...             2   \n",
       "..                                                 ...           ...   \n",
       "495  {\"Air conditioning\",Kitchen,Elevator,Heating,\"...             4   \n",
       "496  {Internet,\"Wireless Internet\",\"Air conditionin...             2   \n",
       "497  {TV,\"Cable TV\",Internet,\"Wireless Internet\",\"A...             2   \n",
       "498                            {\"Family/kid friendly\"}             2   \n",
       "499  {Internet,\"Wireless Internet\",Kitchen,\"Free pa...             2   \n",
       "\n",
       "     bathrooms  bed_type cancellation_policy  cleaning_fee city  \\\n",
       "0          1.0  Real Bed              strict          True  NYC   \n",
       "1          1.0  Real Bed              strict          True  NYC   \n",
       "2          1.0  Real Bed            moderate          True  NYC   \n",
       "3          1.0  Real Bed            flexible          True   SF   \n",
       "4          1.0  Real Bed            moderate          True   DC   \n",
       "..         ...       ...                 ...           ...  ...   \n",
       "495        1.0  Real Bed            flexible         False  NYC   \n",
       "496        1.0  Real Bed            moderate          True  NYC   \n",
       "497        1.0  Real Bed            flexible          True  NYC   \n",
       "498        1.0  Real Bed              strict         False   DC   \n",
       "499        1.0  Real Bed              strict          True   LA   \n",
       "\n",
       "                                           description host_has_profile_pic  \\\n",
       "0    Beautiful, sunlit brownstone 1-bedroom in the ...                    1   \n",
       "1    Enjoy travelling during your stay in Manhattan...                    1   \n",
       "2    The Oasis comes complete with a full backyard ...                    1   \n",
       "3    This light-filled home-away-from-home is super...                    1   \n",
       "4    Cool, cozy, and comfortable studio located in ...                    1   \n",
       "..                                                 ...                  ...   \n",
       "495  Alcove studio apt in Midtown Manhattan, 1 bloc...                    1   \n",
       "496  Large, sun-drenched apartment in pre-war build...                    1   \n",
       "497  We live in the Bushwick neighborhood of Brookl...                    1   \n",
       "498  Listed is a cozy room in a 2br, 1ba duplex nea...                    1   \n",
       "499  This gorgeous & spacious 1920s apartment is a ...                    1   \n",
       "\n",
       "    host_identity_verified instant_bookable  number_of_reviews  bedrooms  \\\n",
       "0                        1                0                  2       1.0   \n",
       "1                        0                1                  6       3.0   \n",
       "2                        1                1                 10       1.0   \n",
       "3                        1                0                  0       2.0   \n",
       "4                        1                1                  4       0.0   \n",
       "..                     ...              ...                ...       ...   \n",
       "495                      0                0                  0       0.0   \n",
       "496                      0                0                 12       1.0   \n",
       "497                      0                0                 66       1.0   \n",
       "498                      1                0                  1       1.0   \n",
       "499                      1                0                  3       1.0   \n",
       "\n",
       "     beds       price  \n",
       "0     1.0  150.000000  \n",
       "1     3.0  169.000000  \n",
       "2     3.0  145.000000  \n",
       "3     2.0  749.999999  \n",
       "4     1.0  115.000000  \n",
       "..    ...         ...  \n",
       "495   1.0  176.000000  \n",
       "496   1.0  110.000000  \n",
       "497   2.0   49.000000  \n",
       "498   1.0   60.000000  \n",
       "499   1.0   95.000000  \n",
       "\n",
       "[500 rows x 17 columns]"
      ]
     },
     "execution_count": 16,
     "metadata": {},
     "output_type": "execute_result"
    }
   ],
   "source": [
    "train.head(500)"
   ]
  },
  {
   "cell_type": "code",
   "execution_count": 17,
   "metadata": {},
   "outputs": [],
   "source": [
    "# Convert all categorical features in the training set to categories\n",
    "train['property_type'] = train['property_type'].astype('category')\n",
    "train['room_type'] = train['room_type'].astype('category')\n",
    "train['bed_type'] = train['bed_type'].astype('category')\n",
    "train['cancellation_policy'] = train['cancellation_policy'].astype('category')\n",
    "train['cleaning_fee'] = train['cleaning_fee'].astype('category')\n",
    "train['city'] = train['city'].astype('category')\n",
    "# Converts all categorical features in the test set to categories\n",
    "test['property_type'] = test['property_type'].astype('category')\n",
    "test['room_type'] = test['room_type'].astype('category')\n",
    "test['bed_type'] = test['bed_type'].astype('category')\n",
    "test['cancellation_policy'] = test['cancellation_policy'].astype('category')\n",
    "test['cleaning_fee'] = test['cleaning_fee'].astype('category')\n",
    "test['city'] = test['city'].astype('category')"
   ]
  },
  {
   "cell_type": "code",
   "execution_count": 18,
   "metadata": {
    "scrolled": true
   },
   "outputs": [
    {
     "data": {
      "text/html": [
       "<div>\n",
       "<style scoped>\n",
       "    .dataframe tbody tr th:only-of-type {\n",
       "        vertical-align: middle;\n",
       "    }\n",
       "\n",
       "    .dataframe tbody tr th {\n",
       "        vertical-align: top;\n",
       "    }\n",
       "\n",
       "    .dataframe thead th {\n",
       "        text-align: right;\n",
       "    }\n",
       "</style>\n",
       "<table border=\"1\" class=\"dataframe\">\n",
       "  <thead>\n",
       "    <tr style=\"text-align: right;\">\n",
       "      <th></th>\n",
       "      <th>property_type</th>\n",
       "      <th>room_type</th>\n",
       "      <th>amenities</th>\n",
       "      <th>accommodates</th>\n",
       "      <th>bathrooms</th>\n",
       "      <th>bed_type</th>\n",
       "      <th>cancellation_policy</th>\n",
       "      <th>cleaning_fee</th>\n",
       "      <th>city</th>\n",
       "      <th>description</th>\n",
       "      <th>host_has_profile_pic</th>\n",
       "      <th>host_identity_verified</th>\n",
       "      <th>instant_bookable</th>\n",
       "      <th>number_of_reviews</th>\n",
       "      <th>bedrooms</th>\n",
       "      <th>beds</th>\n",
       "      <th>price</th>\n",
       "    </tr>\n",
       "  </thead>\n",
       "  <tbody>\n",
       "    <tr>\n",
       "      <th>0</th>\n",
       "      <td>0</td>\n",
       "      <td>0</td>\n",
       "      <td>{\"Wireless Internet\",\"Air conditioning\",Kitche...</td>\n",
       "      <td>3</td>\n",
       "      <td>1.0</td>\n",
       "      <td>4</td>\n",
       "      <td>2</td>\n",
       "      <td>1</td>\n",
       "      <td>4</td>\n",
       "      <td>Beautiful, sunlit brownstone 1-bedroom in the ...</td>\n",
       "      <td>1</td>\n",
       "      <td>1</td>\n",
       "      <td>0</td>\n",
       "      <td>2</td>\n",
       "      <td>1.0</td>\n",
       "      <td>1.0</td>\n",
       "      <td>150.000000</td>\n",
       "    </tr>\n",
       "    <tr>\n",
       "      <th>1</th>\n",
       "      <td>0</td>\n",
       "      <td>0</td>\n",
       "      <td>{\"Wireless Internet\",\"Air conditioning\",Kitche...</td>\n",
       "      <td>7</td>\n",
       "      <td>1.0</td>\n",
       "      <td>4</td>\n",
       "      <td>2</td>\n",
       "      <td>1</td>\n",
       "      <td>4</td>\n",
       "      <td>Enjoy travelling during your stay in Manhattan...</td>\n",
       "      <td>1</td>\n",
       "      <td>0</td>\n",
       "      <td>1</td>\n",
       "      <td>6</td>\n",
       "      <td>3.0</td>\n",
       "      <td>3.0</td>\n",
       "      <td>169.000000</td>\n",
       "    </tr>\n",
       "    <tr>\n",
       "      <th>2</th>\n",
       "      <td>0</td>\n",
       "      <td>0</td>\n",
       "      <td>{TV,\"Cable TV\",\"Wireless Internet\",\"Air condit...</td>\n",
       "      <td>5</td>\n",
       "      <td>1.0</td>\n",
       "      <td>4</td>\n",
       "      <td>1</td>\n",
       "      <td>1</td>\n",
       "      <td>4</td>\n",
       "      <td>The Oasis comes complete with a full backyard ...</td>\n",
       "      <td>1</td>\n",
       "      <td>1</td>\n",
       "      <td>1</td>\n",
       "      <td>10</td>\n",
       "      <td>1.0</td>\n",
       "      <td>3.0</td>\n",
       "      <td>145.000000</td>\n",
       "    </tr>\n",
       "    <tr>\n",
       "      <th>3</th>\n",
       "      <td>6</td>\n",
       "      <td>0</td>\n",
       "      <td>{TV,\"Cable TV\",Internet,\"Wireless Internet\",Ki...</td>\n",
       "      <td>4</td>\n",
       "      <td>1.0</td>\n",
       "      <td>4</td>\n",
       "      <td>0</td>\n",
       "      <td>1</td>\n",
       "      <td>5</td>\n",
       "      <td>This light-filled home-away-from-home is super...</td>\n",
       "      <td>1</td>\n",
       "      <td>1</td>\n",
       "      <td>0</td>\n",
       "      <td>0</td>\n",
       "      <td>2.0</td>\n",
       "      <td>2.0</td>\n",
       "      <td>749.999999</td>\n",
       "    </tr>\n",
       "    <tr>\n",
       "      <th>4</th>\n",
       "      <td>0</td>\n",
       "      <td>0</td>\n",
       "      <td>{TV,Internet,\"Wireless Internet\",\"Air conditio...</td>\n",
       "      <td>2</td>\n",
       "      <td>1.0</td>\n",
       "      <td>4</td>\n",
       "      <td>1</td>\n",
       "      <td>1</td>\n",
       "      <td>2</td>\n",
       "      <td>Cool, cozy, and comfortable studio located in ...</td>\n",
       "      <td>1</td>\n",
       "      <td>1</td>\n",
       "      <td>1</td>\n",
       "      <td>4</td>\n",
       "      <td>0.0</td>\n",
       "      <td>1.0</td>\n",
       "      <td>115.000000</td>\n",
       "    </tr>\n",
       "    <tr>\n",
       "      <th>...</th>\n",
       "      <td>...</td>\n",
       "      <td>...</td>\n",
       "      <td>...</td>\n",
       "      <td>...</td>\n",
       "      <td>...</td>\n",
       "      <td>...</td>\n",
       "      <td>...</td>\n",
       "      <td>...</td>\n",
       "      <td>...</td>\n",
       "      <td>...</td>\n",
       "      <td>...</td>\n",
       "      <td>...</td>\n",
       "      <td>...</td>\n",
       "      <td>...</td>\n",
       "      <td>...</td>\n",
       "      <td>...</td>\n",
       "      <td>...</td>\n",
       "    </tr>\n",
       "    <tr>\n",
       "      <th>495</th>\n",
       "      <td>0</td>\n",
       "      <td>0</td>\n",
       "      <td>{\"Air conditioning\",Kitchen,Elevator,Heating,\"...</td>\n",
       "      <td>4</td>\n",
       "      <td>1.0</td>\n",
       "      <td>4</td>\n",
       "      <td>0</td>\n",
       "      <td>0</td>\n",
       "      <td>4</td>\n",
       "      <td>Alcove studio apt in Midtown Manhattan, 1 bloc...</td>\n",
       "      <td>1</td>\n",
       "      <td>0</td>\n",
       "      <td>0</td>\n",
       "      <td>0</td>\n",
       "      <td>0.0</td>\n",
       "      <td>1.0</td>\n",
       "      <td>176.000000</td>\n",
       "    </tr>\n",
       "    <tr>\n",
       "      <th>496</th>\n",
       "      <td>0</td>\n",
       "      <td>0</td>\n",
       "      <td>{Internet,\"Wireless Internet\",\"Air conditionin...</td>\n",
       "      <td>2</td>\n",
       "      <td>1.0</td>\n",
       "      <td>4</td>\n",
       "      <td>1</td>\n",
       "      <td>1</td>\n",
       "      <td>4</td>\n",
       "      <td>Large, sun-drenched apartment in pre-war build...</td>\n",
       "      <td>1</td>\n",
       "      <td>0</td>\n",
       "      <td>0</td>\n",
       "      <td>12</td>\n",
       "      <td>1.0</td>\n",
       "      <td>1.0</td>\n",
       "      <td>110.000000</td>\n",
       "    </tr>\n",
       "    <tr>\n",
       "      <th>497</th>\n",
       "      <td>0</td>\n",
       "      <td>1</td>\n",
       "      <td>{TV,\"Cable TV\",Internet,\"Wireless Internet\",\"A...</td>\n",
       "      <td>2</td>\n",
       "      <td>1.0</td>\n",
       "      <td>4</td>\n",
       "      <td>0</td>\n",
       "      <td>1</td>\n",
       "      <td>4</td>\n",
       "      <td>We live in the Bushwick neighborhood of Brookl...</td>\n",
       "      <td>1</td>\n",
       "      <td>0</td>\n",
       "      <td>0</td>\n",
       "      <td>66</td>\n",
       "      <td>1.0</td>\n",
       "      <td>2.0</td>\n",
       "      <td>49.000000</td>\n",
       "    </tr>\n",
       "    <tr>\n",
       "      <th>498</th>\n",
       "      <td>0</td>\n",
       "      <td>1</td>\n",
       "      <td>{\"Family/kid friendly\"}</td>\n",
       "      <td>2</td>\n",
       "      <td>1.0</td>\n",
       "      <td>4</td>\n",
       "      <td>2</td>\n",
       "      <td>0</td>\n",
       "      <td>2</td>\n",
       "      <td>Listed is a cozy room in a 2br, 1ba duplex nea...</td>\n",
       "      <td>1</td>\n",
       "      <td>1</td>\n",
       "      <td>0</td>\n",
       "      <td>1</td>\n",
       "      <td>1.0</td>\n",
       "      <td>1.0</td>\n",
       "      <td>60.000000</td>\n",
       "    </tr>\n",
       "    <tr>\n",
       "      <th>499</th>\n",
       "      <td>0</td>\n",
       "      <td>0</td>\n",
       "      <td>{Internet,\"Wireless Internet\",Kitchen,\"Free pa...</td>\n",
       "      <td>2</td>\n",
       "      <td>1.0</td>\n",
       "      <td>4</td>\n",
       "      <td>2</td>\n",
       "      <td>1</td>\n",
       "      <td>3</td>\n",
       "      <td>This gorgeous &amp; spacious 1920s apartment is a ...</td>\n",
       "      <td>1</td>\n",
       "      <td>1</td>\n",
       "      <td>0</td>\n",
       "      <td>3</td>\n",
       "      <td>1.0</td>\n",
       "      <td>1.0</td>\n",
       "      <td>95.000000</td>\n",
       "    </tr>\n",
       "  </tbody>\n",
       "</table>\n",
       "<p>500 rows × 17 columns</p>\n",
       "</div>"
      ],
      "text/plain": [
       "     property_type  room_type  \\\n",
       "0                0          0   \n",
       "1                0          0   \n",
       "2                0          0   \n",
       "3                6          0   \n",
       "4                0          0   \n",
       "..             ...        ...   \n",
       "495              0          0   \n",
       "496              0          0   \n",
       "497              0          1   \n",
       "498              0          1   \n",
       "499              0          0   \n",
       "\n",
       "                                             amenities  accommodates  \\\n",
       "0    {\"Wireless Internet\",\"Air conditioning\",Kitche...             3   \n",
       "1    {\"Wireless Internet\",\"Air conditioning\",Kitche...             7   \n",
       "2    {TV,\"Cable TV\",\"Wireless Internet\",\"Air condit...             5   \n",
       "3    {TV,\"Cable TV\",Internet,\"Wireless Internet\",Ki...             4   \n",
       "4    {TV,Internet,\"Wireless Internet\",\"Air conditio...             2   \n",
       "..                                                 ...           ...   \n",
       "495  {\"Air conditioning\",Kitchen,Elevator,Heating,\"...             4   \n",
       "496  {Internet,\"Wireless Internet\",\"Air conditionin...             2   \n",
       "497  {TV,\"Cable TV\",Internet,\"Wireless Internet\",\"A...             2   \n",
       "498                            {\"Family/kid friendly\"}             2   \n",
       "499  {Internet,\"Wireless Internet\",Kitchen,\"Free pa...             2   \n",
       "\n",
       "     bathrooms  bed_type  cancellation_policy  cleaning_fee  city  \\\n",
       "0          1.0         4                    2             1     4   \n",
       "1          1.0         4                    2             1     4   \n",
       "2          1.0         4                    1             1     4   \n",
       "3          1.0         4                    0             1     5   \n",
       "4          1.0         4                    1             1     2   \n",
       "..         ...       ...                  ...           ...   ...   \n",
       "495        1.0         4                    0             0     4   \n",
       "496        1.0         4                    1             1     4   \n",
       "497        1.0         4                    0             1     4   \n",
       "498        1.0         4                    2             0     2   \n",
       "499        1.0         4                    2             1     3   \n",
       "\n",
       "                                           description host_has_profile_pic  \\\n",
       "0    Beautiful, sunlit brownstone 1-bedroom in the ...                    1   \n",
       "1    Enjoy travelling during your stay in Manhattan...                    1   \n",
       "2    The Oasis comes complete with a full backyard ...                    1   \n",
       "3    This light-filled home-away-from-home is super...                    1   \n",
       "4    Cool, cozy, and comfortable studio located in ...                    1   \n",
       "..                                                 ...                  ...   \n",
       "495  Alcove studio apt in Midtown Manhattan, 1 bloc...                    1   \n",
       "496  Large, sun-drenched apartment in pre-war build...                    1   \n",
       "497  We live in the Bushwick neighborhood of Brookl...                    1   \n",
       "498  Listed is a cozy room in a 2br, 1ba duplex nea...                    1   \n",
       "499  This gorgeous & spacious 1920s apartment is a ...                    1   \n",
       "\n",
       "    host_identity_verified instant_bookable  number_of_reviews  bedrooms  \\\n",
       "0                        1                0                  2       1.0   \n",
       "1                        0                1                  6       3.0   \n",
       "2                        1                1                 10       1.0   \n",
       "3                        1                0                  0       2.0   \n",
       "4                        1                1                  4       0.0   \n",
       "..                     ...              ...                ...       ...   \n",
       "495                      0                0                  0       0.0   \n",
       "496                      0                0                 12       1.0   \n",
       "497                      0                0                 66       1.0   \n",
       "498                      1                0                  1       1.0   \n",
       "499                      1                0                  3       1.0   \n",
       "\n",
       "     beds       price  \n",
       "0     1.0  150.000000  \n",
       "1     3.0  169.000000  \n",
       "2     3.0  145.000000  \n",
       "3     2.0  749.999999  \n",
       "4     1.0  115.000000  \n",
       "..    ...         ...  \n",
       "495   1.0  176.000000  \n",
       "496   1.0  110.000000  \n",
       "497   2.0   49.000000  \n",
       "498   1.0   60.000000  \n",
       "499   1.0   95.000000  \n",
       "\n",
       "[500 rows x 17 columns]"
      ]
     },
     "execution_count": 18,
     "metadata": {},
     "output_type": "execute_result"
    }
   ],
   "source": [
    "# Encodes all of the categorical features in the training set\n",
    "cat_columns = train.select_dtypes(['category']).columns\n",
    "cat_columns\n",
    "\n",
    "train[cat_columns] = train[cat_columns].apply(lambda x: x.cat.codes)\n",
    "\n",
    "train.head(500)"
   ]
  },
  {
   "cell_type": "code",
   "execution_count": 19,
   "metadata": {
    "scrolled": true
   },
   "outputs": [
    {
     "name": "stdout",
     "output_type": "stream",
     "text": [
      "<class 'pandas.core.frame.DataFrame'>\n",
      "RangeIndex: 20000 entries, 0 to 19999\n",
      "Data columns (total 17 columns):\n",
      " #   Column                  Non-Null Count  Dtype  \n",
      "---  ------                  --------------  -----  \n",
      " 0   property_type           20000 non-null  int8   \n",
      " 1   room_type               20000 non-null  int8   \n",
      " 2   amenities               20000 non-null  object \n",
      " 3   accommodates            20000 non-null  int64  \n",
      " 4   bathrooms               19939 non-null  float64\n",
      " 5   bed_type                20000 non-null  int8   \n",
      " 6   cancellation_policy     20000 non-null  int8   \n",
      " 7   cleaning_fee            20000 non-null  int8   \n",
      " 8   city                    20000 non-null  int8   \n",
      " 9   description             20000 non-null  object \n",
      " 10  host_has_profile_pic    19943 non-null  object \n",
      " 11  host_identity_verified  19943 non-null  object \n",
      " 12  instant_bookable        20000 non-null  object \n",
      " 13  number_of_reviews       20000 non-null  int64  \n",
      " 14  bedrooms                19980 non-null  float64\n",
      " 15  beds                    19964 non-null  float64\n",
      " 16  price                   20000 non-null  float64\n",
      "dtypes: float64(4), int64(2), int8(6), object(5)\n",
      "memory usage: 1.8+ MB\n"
     ]
    }
   ],
   "source": [
    "train.info()"
   ]
  },
  {
   "cell_type": "code",
   "execution_count": 20,
   "metadata": {},
   "outputs": [],
   "source": [
    "# Encodes all of the categorical features in the test set\n",
    "cat_columns = test.select_dtypes(['category']).columns\n",
    "cat_columns\n",
    "\n",
    "test[cat_columns] = test[cat_columns].apply(lambda x: x.cat.codes)"
   ]
  },
  {
   "cell_type": "code",
   "execution_count": 21,
   "metadata": {
    "scrolled": true
   },
   "outputs": [
    {
     "data": {
      "text/html": [
       "<div>\n",
       "<style scoped>\n",
       "    .dataframe tbody tr th:only-of-type {\n",
       "        vertical-align: middle;\n",
       "    }\n",
       "\n",
       "    .dataframe tbody tr th {\n",
       "        vertical-align: top;\n",
       "    }\n",
       "\n",
       "    .dataframe thead th {\n",
       "        text-align: right;\n",
       "    }\n",
       "</style>\n",
       "<table border=\"1\" class=\"dataframe\">\n",
       "  <thead>\n",
       "    <tr style=\"text-align: right;\">\n",
       "      <th></th>\n",
       "      <th>property_type</th>\n",
       "      <th>room_type</th>\n",
       "      <th>amenities</th>\n",
       "      <th>accommodates</th>\n",
       "      <th>bathrooms</th>\n",
       "      <th>bed_type</th>\n",
       "      <th>cancellation_policy</th>\n",
       "      <th>cleaning_fee</th>\n",
       "      <th>city</th>\n",
       "      <th>description</th>\n",
       "      <th>host_has_profile_pic</th>\n",
       "      <th>host_identity_verified</th>\n",
       "      <th>instant_bookable</th>\n",
       "      <th>number_of_reviews</th>\n",
       "      <th>bedrooms</th>\n",
       "      <th>beds</th>\n",
       "    </tr>\n",
       "  </thead>\n",
       "  <tbody>\n",
       "    <tr>\n",
       "      <th>0</th>\n",
       "      <td>0</td>\n",
       "      <td>1</td>\n",
       "      <td>{TV,\"Cable TV\",Kitchen,\"Free parking on premis...</td>\n",
       "      <td>2</td>\n",
       "      <td>1.0</td>\n",
       "      <td>4</td>\n",
       "      <td>0</td>\n",
       "      <td>1</td>\n",
       "      <td>3</td>\n",
       "      <td>Close to SM beaches, 3rd Street Promenade, SM ...</td>\n",
       "      <td>1</td>\n",
       "      <td>0</td>\n",
       "      <td>0</td>\n",
       "      <td>6</td>\n",
       "      <td>1.0</td>\n",
       "      <td>1.0</td>\n",
       "    </tr>\n",
       "    <tr>\n",
       "      <th>1</th>\n",
       "      <td>0</td>\n",
       "      <td>0</td>\n",
       "      <td>{TV,\"Cable TV\",\"Wireless Internet\",\"Air condit...</td>\n",
       "      <td>3</td>\n",
       "      <td>1.0</td>\n",
       "      <td>4</td>\n",
       "      <td>1</td>\n",
       "      <td>1</td>\n",
       "      <td>4</td>\n",
       "      <td>This apartment will give you a true (luxury) B...</td>\n",
       "      <td>1</td>\n",
       "      <td>1</td>\n",
       "      <td>0</td>\n",
       "      <td>2</td>\n",
       "      <td>1.0</td>\n",
       "      <td>1.0</td>\n",
       "    </tr>\n",
       "    <tr>\n",
       "      <th>2</th>\n",
       "      <td>0</td>\n",
       "      <td>1</td>\n",
       "      <td>{\"Wireless Internet\",Kitchen,Heating,\"Family/k...</td>\n",
       "      <td>1</td>\n",
       "      <td>1.0</td>\n",
       "      <td>4</td>\n",
       "      <td>1</td>\n",
       "      <td>1</td>\n",
       "      <td>5</td>\n",
       "      <td>Spacious 1 bedroom apartment apartment with se...</td>\n",
       "      <td>1</td>\n",
       "      <td>1</td>\n",
       "      <td>0</td>\n",
       "      <td>2</td>\n",
       "      <td>1.0</td>\n",
       "      <td>1.0</td>\n",
       "    </tr>\n",
       "    <tr>\n",
       "      <th>3</th>\n",
       "      <td>0</td>\n",
       "      <td>0</td>\n",
       "      <td>{TV,\"Cable TV\",Internet,\"Wireless Internet\",\"W...</td>\n",
       "      <td>1</td>\n",
       "      <td>1.0</td>\n",
       "      <td>4</td>\n",
       "      <td>2</td>\n",
       "      <td>1</td>\n",
       "      <td>3</td>\n",
       "      <td>Very clean 1 Bedroom Jr. 3/4 Bath unit located...</td>\n",
       "      <td>1</td>\n",
       "      <td>1</td>\n",
       "      <td>0</td>\n",
       "      <td>7</td>\n",
       "      <td>0.0</td>\n",
       "      <td>1.0</td>\n",
       "    </tr>\n",
       "    <tr>\n",
       "      <th>4</th>\n",
       "      <td>0</td>\n",
       "      <td>0</td>\n",
       "      <td>{TV,Internet,\"Wireless Internet\",\"Air conditio...</td>\n",
       "      <td>2</td>\n",
       "      <td>1.0</td>\n",
       "      <td>4</td>\n",
       "      <td>0</td>\n",
       "      <td>1</td>\n",
       "      <td>4</td>\n",
       "      <td>My apartment is airy &amp; light, brand new renova...</td>\n",
       "      <td>1</td>\n",
       "      <td>1</td>\n",
       "      <td>0</td>\n",
       "      <td>0</td>\n",
       "      <td>1.0</td>\n",
       "      <td>1.0</td>\n",
       "    </tr>\n",
       "  </tbody>\n",
       "</table>\n",
       "</div>"
      ],
      "text/plain": [
       "   property_type  room_type  \\\n",
       "0              0          1   \n",
       "1              0          0   \n",
       "2              0          1   \n",
       "3              0          0   \n",
       "4              0          0   \n",
       "\n",
       "                                           amenities  accommodates  bathrooms  \\\n",
       "0  {TV,\"Cable TV\",Kitchen,\"Free parking on premis...             2        1.0   \n",
       "1  {TV,\"Cable TV\",\"Wireless Internet\",\"Air condit...             3        1.0   \n",
       "2  {\"Wireless Internet\",Kitchen,Heating,\"Family/k...             1        1.0   \n",
       "3  {TV,\"Cable TV\",Internet,\"Wireless Internet\",\"W...             1        1.0   \n",
       "4  {TV,Internet,\"Wireless Internet\",\"Air conditio...             2        1.0   \n",
       "\n",
       "   bed_type  cancellation_policy  cleaning_fee  city  \\\n",
       "0         4                    0             1     3   \n",
       "1         4                    1             1     4   \n",
       "2         4                    1             1     5   \n",
       "3         4                    2             1     3   \n",
       "4         4                    0             1     4   \n",
       "\n",
       "                                         description host_has_profile_pic  \\\n",
       "0  Close to SM beaches, 3rd Street Promenade, SM ...                    1   \n",
       "1  This apartment will give you a true (luxury) B...                    1   \n",
       "2  Spacious 1 bedroom apartment apartment with se...                    1   \n",
       "3  Very clean 1 Bedroom Jr. 3/4 Bath unit located...                    1   \n",
       "4  My apartment is airy & light, brand new renova...                    1   \n",
       "\n",
       "  host_identity_verified instant_bookable  number_of_reviews  bedrooms  beds  \n",
       "0                      0                0                  6       1.0   1.0  \n",
       "1                      1                0                  2       1.0   1.0  \n",
       "2                      1                0                  2       1.0   1.0  \n",
       "3                      1                0                  7       0.0   1.0  \n",
       "4                      1                0                  0       1.0   1.0  "
      ]
     },
     "execution_count": 21,
     "metadata": {},
     "output_type": "execute_result"
    }
   ],
   "source": [
    "test.head()"
   ]
  },
  {
   "cell_type": "markdown",
   "metadata": {},
   "source": [
    "## Basic Visualizations"
   ]
  },
  {
   "cell_type": "code",
   "execution_count": 22,
   "metadata": {},
   "outputs": [
    {
     "data": {
      "image/png": "[encoded data removed]",
      "text/plain": [
       "<Figure size 432x288 with 1 Axes>"
      ]
     },
     "metadata": {
      "needs_background": "light"
     },
     "output_type": "display_data"
    }
   ],
   "source": [
    "plt.hist(train['price'], bins = 200)\n",
    "plt.xlabel('price')\n",
    "plt.ylabel('# of airbnbs')\n",
    "plt.show()"
   ]
  },
  {
   "cell_type": "code",
   "execution_count": 23,
   "metadata": {
    "scrolled": true
   },
   "outputs": [
    {
     "data": {
      "text/plain": [
       "Text(0.5, 1.0, 'correlation between price and reviews')"
      ]
     },
     "execution_count": 23,
     "metadata": {},
     "output_type": "execute_result"
    },
    {
     "data": {
      "image/png": "[encoded data removed]",
      "text/plain": [
       "<Figure size 432x288 with 1 Axes>"
      ]
     },
     "metadata": {
      "needs_background": "light"
     },
     "output_type": "display_data"
    }
   ],
   "source": [
    "plt.scatter(train['price'], train['number_of_reviews'])\n",
    "plt.xlabel('review scores')\n",
    "plt.ylabel('Price($)')\n",
    "plt.title('correlation between price and reviews')"
   ]
  },
  {
   "cell_type": "code",
   "execution_count": 24,
   "metadata": {
    "scrolled": true
   },
   "outputs": [
    {
     "data": {
      "image/png": "[encoded data removed]",
      "text/plain": [
       "<Figure size 432x288 with 1 Axes>"
      ]
     },
     "metadata": {
      "needs_background": "light"
     },
     "output_type": "display_data"
    }
   ],
   "source": [
    "plt.hist(train['number_of_reviews'], bins = 50)\n",
    "plt.show()"
   ]
  },
  {
   "cell_type": "markdown",
   "metadata": {},
   "source": [
    "# Model"
   ]
  },
  {
   "cell_type": "markdown",
   "metadata": {},
   "source": [
    "## Splitting"
   ]
  },
  {
   "cell_type": "markdown",
   "metadata": {},
   "source": [
    "The goal with this model is for someone that rents out airbnbs to be able to input values and recieve the optimal price for their airbnb. Must use NLP. Inputs will include strings. For example the airbnb owner can type out the description and see how it affects the price. "
   ]
  },
  {
   "cell_type": "markdown",
   "metadata": {},
   "source": [
    "Must process description and amenities columns using nlp and then pass the vectorized tokens into our predictive model"
   ]
  },
  {
   "cell_type": "code",
   "execution_count": 25,
   "metadata": {},
   "outputs": [],
   "source": [
    "train = train.dropna()\n",
    "test = test.dropna()"
   ]
  },
  {
   "cell_type": "code",
   "execution_count": 26,
   "metadata": {},
   "outputs": [],
   "source": [
    "# Splitting training data into our feature matrix and target vector\n",
    "target = train['price']\n",
    "\n",
    "# New Dataset for just our numeric data\n",
    "X = train.drop(['price', 'amenities', 'description'], axis = 1)\n",
    "y = target\n",
    "\n",
    "X_test = test.drop(['amenities', 'description'], axis = 1)\n",
    "\n",
    "# Turns X and y into all floats for NN model\n",
    "X = X.astype(float)\n",
    "y = y.astype(float)\n",
    "X_test = X_test.astype(float)"
   ]
  },
  {
   "cell_type": "markdown",
   "metadata": {},
   "source": [
    "## Preprocessing Steps\n",
    "\n",
    "\n"
   ]
  },
  {
   "cell_type": "markdown",
   "metadata": {},
   "source": [
    "### Creates BOW (first inputs to model) for train and test"
   ]
  },
  {
   "cell_type": "code",
   "execution_count": 27,
   "metadata": {},
   "outputs": [],
   "source": [
    "# Pulls out the description and amenities column for NLP processing \n",
    "desc_train = train['description'].astype(str)\n",
    "desc_test = test['description'].astype(str)\n",
    "amen_train = train['amenities'].astype(str)\n",
    "amen_test = test['amenities'].astype(str)"
   ]
  },
  {
   "cell_type": "markdown",
   "metadata": {},
   "source": [
    "If we want to increase model accuracy we can add the below code to the neural net"
   ]
  },
  {
   "cell_type": "code",
   "execution_count": 28,
   "metadata": {},
   "outputs": [],
   "source": [
    "#Creates tokenizer for NlP model for the Amenities and Description features\n",
    "# \n",
    "vocab_size = 10000\n",
    "tokenize = keras.preprocessing.text.Tokenizer(num_words=10000, char_level = False)\n",
    "tokenize.fit_on_texts(desc_train)\n",
    "tokenize.fit_on_texts(desc_test)         \n",
    "tokenize.fit_on_texts(amen_train)\n",
    "tokenize.fit_on_texts(amen_test)"
   ]
  },
  {
   "cell_type": "code",
   "execution_count": 29,
   "metadata": {},
   "outputs": [
    {
     "data": {
      "text/plain": [
       "0        Beautiful, sunlit brownstone 1-bedroom in the ...\n",
       "1        Enjoy travelling during your stay in Manhattan...\n",
       "2        The Oasis comes complete with a full backyard ...\n",
       "3        This light-filled home-away-from-home is super...\n",
       "4        Cool, cozy, and comfortable studio located in ...\n",
       "                               ...                        \n",
       "19995    private master bed room suite with indoor toil...\n",
       "19996    Brand new Hollywood listing in the middle of A...\n",
       "19997    Luxury 2 bedroom apartment in Midtown Manhatta...\n",
       "19998    The room is in a newly renovated first floor p...\n",
       "19999    Room with tons of natural light, in a two bedr...\n",
       "Name: description, Length: 19850, dtype: object"
      ]
     },
     "execution_count": 29,
     "metadata": {},
     "output_type": "execute_result"
    }
   ],
   "source": [
    "desc_train"
   ]
  },
  {
   "cell_type": "code",
   "execution_count": 30,
   "metadata": {},
   "outputs": [],
   "source": [
    "# Creates Bag of Words \n",
    "desc_bow_train = tokenize.texts_to_matrix(desc_train)\n",
    "desc_bow_test = tokenize.texts_to_matrix(desc_test)\n",
    "amen_bow_train = tokenize.texts_to_matrix(amen_train)\n",
    "amen_bow_test = tokenize.texts_to_matrix(amen_test)"
   ]
  },
  {
   "cell_type": "code",
   "execution_count": 31,
   "metadata": {},
   "outputs": [],
   "source": [
    "# Wide Feature 2: one-hot vector \n",
    "# Not sure if this is necessary for the model because their model applies this to a \n",
    "# column with one word instead of multiple\n",
    "\n",
    "# encoder = LabelEncoder()\n",
    "# encoder.fit(desc_train)\n",
    "# encoder.fit(amen_train)\n",
    "# desc_train_encode = encoder.transform(desc_train)\n",
    "# amen_train_encode = encoder.transfrom(amen_train)\n",
    "\n",
    "# variety_test = encoder.transform(desc_test)\n",
    "\n",
    "# num_classes_desc = np.max(desc_train) + 1\n",
    "# num_classes_amen = np.max(amen_train) + 1\n",
    "\n",
    "\n",
    "# Convert labels to one hot\n",
    "\n",
    "# variety_train_desc = keras.utils.to_categorical(desc_train, num_classes_desc)\n",
    "# variety_train_amen = keras.utils.to_categorical(amen_train, num_classes_amen)\n",
    "# variety_test = keras.utils.to_categorical(desc_test, num_classes)"
   ]
  },
  {
   "cell_type": "markdown",
   "metadata": {},
   "source": [
    "the 4 code cells below might be useful to create pipeline to process the users inputs. Currently I am just going to work on getting a working model, then i will come back to try to make a model that will take the users inputs and processes the text data. "
   ]
  },
  {
   "cell_type": "code",
   "execution_count": 32,
   "metadata": {},
   "outputs": [],
   "source": [
    "# vect = CountVectorizer(analyzer = 'word', stop_words = 'english')\n",
    "# vect.fit_transform(desc_train)"
   ]
  },
  {
   "cell_type": "code",
   "execution_count": 33,
   "metadata": {},
   "outputs": [],
   "source": [
    "# vect.get_feature_names()"
   ]
  },
  {
   "cell_type": "code",
   "execution_count": 34,
   "metadata": {},
   "outputs": [],
   "source": [
    "# pipeline = make_pipeline(train_embed = tokenize.text_to_sequences(desc_train),\n",
    "#                         test_embed = )"
   ]
  },
  {
   "cell_type": "markdown",
   "metadata": {},
   "source": [
    "#### Matrix input for description "
   ]
  },
  {
   "cell_type": "code",
   "execution_count": 35,
   "metadata": {
    "scrolled": false
   },
   "outputs": [
    {
     "data": {
      "text/plain": [
       "0    Close to SM beaches, 3rd Street Promenade, SM ...\n",
       "1    This apartment will give you a true (luxury) B...\n",
       "2    Spacious 1 bedroom apartment apartment with se...\n",
       "3    Very clean 1 Bedroom Jr. 3/4 Bath unit located...\n",
       "4    My apartment is airy & light, brand new renova...\n",
       "Name: description, dtype: object"
      ]
     },
     "execution_count": 35,
     "metadata": {},
     "output_type": "execute_result"
    }
   ],
   "source": [
    "# This Is equivalent to variety_test/train\n",
    "desc_test.head()"
   ]
  },
  {
   "cell_type": "code",
   "execution_count": 36,
   "metadata": {
    "scrolled": true
   },
   "outputs": [
    {
     "data": {
      "text/plain": [
       "0    Beautiful, sunlit brownstone 1-bedroom in the ...\n",
       "1    Enjoy travelling during your stay in Manhattan...\n",
       "2    The Oasis comes complete with a full backyard ...\n",
       "3    This light-filled home-away-from-home is super...\n",
       "4    Cool, cozy, and comfortable studio located in ...\n",
       "Name: description, dtype: object"
      ]
     },
     "execution_count": 36,
     "metadata": {},
     "output_type": "execute_result"
    }
   ],
   "source": [
    "desc_train.head()"
   ]
  },
  {
   "cell_type": "markdown",
   "metadata": {},
   "source": [
    "### Sequence Embeddings (second input to model)"
   ]
  },
  {
   "cell_type": "code",
   "execution_count": 37,
   "metadata": {},
   "outputs": [],
   "source": [
    "# Turns the tokenized description text into sequences \n",
    "train_desc_embed = tokenize.texts_to_sequences(desc_train)\n",
    "test_desc_embed = tokenize.texts_to_sequences(desc_test)\n",
    "\n",
    "max_seq_length = 170\n",
    "\n",
    "# Train preprocessing for description\n",
    "train_desc_embed = keras.preprocessing.sequence.pad_sequences(\n",
    "train_desc_embed, maxlen = max_seq_length, padding = 'post')\n",
    "\n",
    "# Test preprocessing for description\n",
    "test_desc_embed = keras.preprocessing.sequence.pad_sequences(\n",
    "test_desc_embed, maxlen = max_seq_length, padding = 'post')"
   ]
  },
  {
   "cell_type": "code",
   "execution_count": 38,
   "metadata": {
    "scrolled": true
   },
   "outputs": [
    {
     "data": {
      "text/plain": [
       "array([[ 123, 2656,  584, ...,    0,    0,    0],\n",
       "       [ 150, 3090,  287, ...,    0,    0,    0],\n",
       "       [   1,  901,  593, ...,    0,    0,    0],\n",
       "       ...,\n",
       "       [ 404,   44,   20, ...,    0,    0,    0],\n",
       "       [   5,    3,  326, ...,  280,  440,  497],\n",
       "       [  19,    8,  472, ...,    0,    0,    0]])"
      ]
     },
     "execution_count": 38,
     "metadata": {},
     "output_type": "execute_result"
    }
   ],
   "source": [
    "train_desc_embed"
   ]
  },
  {
   "cell_type": "code",
   "execution_count": 39,
   "metadata": {},
   "outputs": [
    {
     "data": {
      "text/plain": [
       "(19850, 170)"
      ]
     },
     "execution_count": 39,
     "metadata": {},
     "output_type": "execute_result"
    }
   ],
   "source": [
    "train_desc_embed.shape"
   ]
  },
  {
   "cell_type": "markdown",
   "metadata": {},
   "source": [
    "### Amenities"
   ]
  },
  {
   "cell_type": "code",
   "execution_count": 40,
   "metadata": {},
   "outputs": [],
   "source": [
    "# Turns the tokenized amenities text into sequences\n",
    "train_amen_embed = tokenize.texts_to_sequences(amen_train)\n",
    "test_amen_embed = tokenize.texts_to_sequences(amen_test)\n",
    "\n",
    "max_seq_length = 170\n",
    "\n",
    "train_amen_embed = keras.preprocessing.sequence.pad_sequences(\n",
    "    train_amen_embed, maxlen = max_seq_length, padding = 'post')\n",
    "\n",
    "test_amen_embed = keras.preprocessing.sequence.pad_sequences(\n",
    "    test_amen_embed, maxlen = max_seq_length, padding = 'post')"
   ]
  },
  {
   "cell_type": "code",
   "execution_count": 41,
   "metadata": {},
   "outputs": [
    {
     "data": {
      "text/plain": [
       "(19850, 170)"
      ]
     },
     "execution_count": 41,
     "metadata": {},
     "output_type": "execute_result"
    }
   ],
   "source": [
    "train_amen_embed.shape"
   ]
  },
  {
   "cell_type": "markdown",
   "metadata": {},
   "source": [
    "## Model"
   ]
  },
  {
   "cell_type": "code",
   "execution_count": 43,
   "metadata": {},
   "outputs": [],
   "source": [
    "# Multiple Input Layers to be concatenated\n",
    "feat_set_1 = layers.Input(shape = (vocab_size,))\n",
    "feat_set_2 = layers.Input(shape = (vocab_size,))\n",
    "# numeric_set = layers.Input(shape = (14,))\n",
    "\n",
    "merged_layer1 = layers.Concatenate(axis = 1)([feat_set_1,\n",
    "                                  feat_set_2])\n",
    "#                                   numeric_set])\n",
    "# Output layer\n",
    "# variety_inputs = layers.Input(shape = (14,))\n",
    "\n",
    "merged_layer = layers.Dense(256, activation = 'relu')(merged_layer1)\n",
    "\n",
    "predictions = layers.Dense(1, activation = 'linear')(merged_layer)\n",
    "\n",
    "wide_model = keras.Model(inputs = [feat_set_1,\n",
    "                                   feat_set_2],\n",
    "#                                    numeric_set],\n",
    "                        outputs = predictions)"
   ]
  },
  {
   "cell_type": "code",
   "execution_count": null,
   "metadata": {},
   "outputs": [],
   "source": []
  },
  {
   "cell_type": "code",
   "execution_count": 44,
   "metadata": {
    "scrolled": true
   },
   "outputs": [
    {
     "name": "stdout",
     "output_type": "stream",
     "text": [
      "Model: \"functional_1\"\n",
      "__________________________________________________________________________________________________\n",
      "Layer (type)                    Output Shape         Param #     Connected to                     \n",
      "==================================================================================================\n",
      "input_1 (InputLayer)            [(None, 10000)]      0                                            \n",
      "__________________________________________________________________________________________________\n",
      "input_2 (InputLayer)            [(None, 10000)]      0                                            \n",
      "__________________________________________________________________________________________________\n",
      "concatenate (Concatenate)       (None, 20000)        0           input_1[0][0]                    \n",
      "                                                                 input_2[0][0]                    \n",
      "__________________________________________________________________________________________________\n",
      "dense (Dense)                   (None, 256)          5120256     concatenate[0][0]                \n",
      "__________________________________________________________________________________________________\n",
      "dense_1 (Dense)                 (None, 1)            257         dense[0][0]                      \n",
      "==================================================================================================\n",
      "Total params: 5,120,513\n",
      "Trainable params: 5,120,513\n",
      "Non-trainable params: 0\n",
      "__________________________________________________________________________________________________\n"
     ]
    }
   ],
   "source": [
    "wide_model.summary()"
   ]
  },
  {
   "cell_type": "code",
   "execution_count": 45,
   "metadata": {},
   "outputs": [],
   "source": [
    "wide_model.compile(loss = 'mean_squared_error',\n",
    "                  optimizer = 'adam',\n",
    "                  metrics = ['MeanAbsoluteError'])"
   ]
  },
  {
   "cell_type": "code",
   "execution_count": 46,
   "metadata": {},
   "outputs": [],
   "source": [
    "#X_trainMod = [desc_train, amen_train] + [train_desc_embed, train_amen_embed]"
   ]
  },
  {
   "cell_type": "code",
   "execution_count": 47,
   "metadata": {},
   "outputs": [
    {
     "name": "stdout",
     "output_type": "stream",
     "text": [
      "Model: \"functional_3\"\n",
      "__________________________________________________________________________________________________\n",
      "Layer (type)                    Output Shape         Param #     Connected to                     \n",
      "==================================================================================================\n",
      "input_3 (InputLayer)            [(None, 170)]        0                                            \n",
      "__________________________________________________________________________________________________\n",
      "embedding (Embedding)           (None, 170, 8)       80000       input_3[0][0]                    \n",
      "__________________________________________________________________________________________________\n",
      "flatten (Flatten)               (None, 1360)         0           embedding[0][0]                  \n",
      "__________________________________________________________________________________________________\n",
      "input_4 (InputLayer)            [(None, 14)]         0                                            \n",
      "__________________________________________________________________________________________________\n",
      "dense_2 (Dense)                 (None, 1)            1361        flatten[0][0]                    \n",
      "==================================================================================================\n",
      "Total params: 81,361\n",
      "Trainable params: 81,361\n",
      "Non-trainable params: 0\n",
      "__________________________________________________________________________________________________\n",
      "None\n"
     ]
    }
   ],
   "source": [
    "# Deep model\n",
    "deep_inputs = layers.Input(shape = (max_seq_length,))\n",
    "numeric_set = layers.Input(shape = (14,))\n",
    "embedding = layers.Embedding(vocab_size, 8, input_length = max_seq_length)(deep_inputs)\n",
    "embedding = layers.Flatten()(embedding)\n",
    "embed_out = layers.Dense(1)(embedding)\n",
    "deep_model = keras.Model(inputs = [deep_inputs, numeric_set] , outputs = embed_out)\n",
    "print(deep_model.summary())"
   ]
  },
  {
   "cell_type": "code",
   "execution_count": 48,
   "metadata": {},
   "outputs": [],
   "source": [
    "deep_model.compile(loss = 'mse',\n",
    "                  optimizer = 'adam',\n",
    "                  metrics = ['MeanSquaredError'])"
   ]
  },
  {
   "cell_type": "code",
   "execution_count": 49,
   "metadata": {
    "scrolled": true
   },
   "outputs": [
    {
     "name": "stdout",
     "output_type": "stream",
     "text": [
      "Model: \"functional_5\"\n",
      "__________________________________________________________________________________________________\n",
      "Layer (type)                    Output Shape         Param #     Connected to                     \n",
      "==================================================================================================\n",
      "input_1 (InputLayer)            [(None, 10000)]      0                                            \n",
      "__________________________________________________________________________________________________\n",
      "input_2 (InputLayer)            [(None, 10000)]      0                                            \n",
      "__________________________________________________________________________________________________\n",
      "input_3 (InputLayer)            [(None, 170)]        0                                            \n",
      "__________________________________________________________________________________________________\n",
      "concatenate (Concatenate)       (None, 20000)        0           input_1[0][0]                    \n",
      "                                                                 input_2[0][0]                    \n",
      "__________________________________________________________________________________________________\n",
      "embedding (Embedding)           (None, 170, 8)       80000       input_3[0][0]                    \n",
      "__________________________________________________________________________________________________\n",
      "dense (Dense)                   (None, 256)          5120256     concatenate[0][0]                \n",
      "__________________________________________________________________________________________________\n",
      "flatten (Flatten)               (None, 1360)         0           embedding[0][0]                  \n",
      "__________________________________________________________________________________________________\n",
      "dense_1 (Dense)                 (None, 1)            257         dense[0][0]                      \n",
      "__________________________________________________________________________________________________\n",
      "dense_2 (Dense)                 (None, 1)            1361        flatten[0][0]                    \n",
      "__________________________________________________________________________________________________\n",
      "concatenate_1 (Concatenate)     (None, 2)            0           dense_1[0][0]                    \n",
      "                                                                 dense_2[0][0]                    \n",
      "__________________________________________________________________________________________________\n",
      "input_4 (InputLayer)            [(None, 14)]         0                                            \n",
      "__________________________________________________________________________________________________\n",
      "dense_3 (Dense)                 (None, 1)            3           concatenate_1[0][0]              \n",
      "==================================================================================================\n",
      "Total params: 5,201,877\n",
      "Trainable params: 5,201,877\n",
      "Non-trainable params: 0\n",
      "__________________________________________________________________________________________________\n",
      "None\n"
     ]
    }
   ],
   "source": [
    "# Combine wide and deep model into one model\n",
    "merged_out = layers.concatenate([wide_model.output, deep_model.output])\n",
    "merged_out = layers.Dense(1)(merged_out)\n",
    "combined_model = keras.Model(wide_model.input + [deep_model.input], merged_out)\n",
    "\n",
    "print(combined_model.summary())\n",
    "\n",
    "combined_model.compile(loss='mse',\n",
    "                       optimizer='adam',\n",
    "                       metrics=['MeanAbsoluteError'])"
   ]
  },
  {
   "cell_type": "code",
   "execution_count": 50,
   "metadata": {
    "scrolled": true
   },
   "outputs": [],
   "source": [
    "# combined_model."
   ]
  },
  {
   "cell_type": "code",
   "execution_count": 51,
   "metadata": {
    "scrolled": true
   },
   "outputs": [
    {
     "name": "stdout",
     "output_type": "stream",
     "text": [
      "Epoch 1/20\n",
      "WARNING:tensorflow:Model was constructed with shape (None, 14) for input Tensor(\"input_4:0\", shape=(None, 14), dtype=float32), but it was called on an input with incompatible shape (None, 170).\n",
      "WARNING:tensorflow:Model was constructed with shape (None, 14) for input Tensor(\"input_4:0\", shape=(None, 14), dtype=float32), but it was called on an input with incompatible shape (None, 170).\n",
      "156/156 [==============================] - 5s 29ms/step - loss: 40581.0625 - mean_absolute_error: 122.1254\n",
      "Epoch 2/20\n",
      "156/156 [==============================] - 4s 28ms/step - loss: 26202.5859 - mean_absolute_error: 91.3134\n",
      "Epoch 3/20\n",
      "156/156 [==============================] - 4s 28ms/step - loss: 23178.7539 - mean_absolute_error: 84.9254\n",
      "Epoch 4/20\n",
      "156/156 [==============================] - 5s 29ms/step - loss: 20858.0312 - mean_absolute_error: 78.4526\n",
      "Epoch 5/20\n",
      "156/156 [==============================] - 5s 30ms/step - loss: 19300.4473 - mean_absolute_error: 75.8998\n",
      "Epoch 6/20\n",
      "156/156 [==============================] - 5s 29ms/step - loss: 18166.2656 - mean_absolute_error: 74.7745\n",
      "Epoch 7/20\n",
      "156/156 [==============================] - 4s 29ms/step - loss: 17083.7637 - mean_absolute_error: 72.5075\n",
      "Epoch 8/20\n",
      "156/156 [==============================] - 4s 28ms/step - loss: 15897.7061 - mean_absolute_error: 68.7985\n",
      "Epoch 9/20\n",
      "156/156 [==============================] - 4s 28ms/step - loss: 14805.9297 - mean_absolute_error: 66.4387\n",
      "Epoch 10/20\n",
      "156/156 [==============================] - 4s 27ms/step - loss: 13797.5732 - mean_absolute_error: 64.1927\n",
      "Epoch 11/20\n",
      "156/156 [==============================] - 4s 29ms/step - loss: 12846.9404 - mean_absolute_error: 62.6212\n",
      "Epoch 12/20\n",
      "156/156 [==============================] - 4s 27ms/step - loss: 11996.9160 - mean_absolute_error: 60.4973\n",
      "Epoch 13/20\n",
      "156/156 [==============================] - 4s 26ms/step - loss: 11228.3350 - mean_absolute_error: 58.8585\n",
      "Epoch 14/20\n",
      "156/156 [==============================] - 4s 26ms/step - loss: 10514.5898 - mean_absolute_error: 57.2250\n",
      "Epoch 15/20\n",
      "156/156 [==============================] - 4s 26ms/step - loss: 9809.9131 - mean_absolute_error: 55.7074\n",
      "Epoch 16/20\n",
      "156/156 [==============================] - 4s 26ms/step - loss: 9199.5176 - mean_absolute_error: 54.1746\n",
      "Epoch 17/20\n",
      "156/156 [==============================] - 5s 29ms/step - loss: 8610.8076 - mean_absolute_error: 52.6403\n",
      "Epoch 18/20\n",
      "156/156 [==============================] - 4s 28ms/step - loss: 8050.7720 - mean_absolute_error: 51.0548\n",
      "Epoch 19/20\n",
      "156/156 [==============================] - 5s 29ms/step - loss: 7545.5928 - mean_absolute_error: 49.6915: 2\n",
      "Epoch 20/20\n",
      "156/156 [==============================] - 4s 28ms/step - loss: 7075.1475 - mean_absolute_error: 48.0867\n"
     ]
    },
    {
     "data": {
      "text/plain": [
       "<tensorflow.python.keras.callbacks.History at 0x2931d2146d0>"
      ]
     },
     "execution_count": 51,
     "metadata": {},
     "output_type": "execute_result"
    }
   ],
   "source": [
    "#[desc_bow_train, amen_bow_train] + [train_desc_embed, train_amen_embed] + [X]\n",
    "combined_model.fit([desc_bow_train, amen_bow_train] + [train_desc_embed, train_amen_embed] + [X],\n",
    "                    y,\n",
    "                    epochs = 20,\n",
    "                   batch_size = 128)"
   ]
  },
  {
   "cell_type": "code",
   "execution_count": 52,
   "metadata": {
    "scrolled": true
   },
   "outputs": [
    {
     "name": "stdout",
     "output_type": "stream",
     "text": [
      "WARNING:tensorflow:Model was constructed with shape (None, 14) for input Tensor(\"input_4:0\", shape=(None, 14), dtype=float32), but it was called on an input with incompatible shape (None, 170).\n"
     ]
    },
    {
     "data": {
      "text/plain": [
       "array([[ 69.872375],\n",
       "       [147.56064 ],\n",
       "       [141.30423 ],\n",
       "       ...,\n",
       "       [104.153015],\n",
       "       [ 49.422306],\n",
       "       [113.72507 ]], dtype=float32)"
      ]
     },
     "execution_count": 52,
     "metadata": {},
     "output_type": "execute_result"
    }
   ],
   "source": [
    "combined_model.predict([desc_bow_test, amen_bow_test] + [test_desc_embed, test_amen_embed] + [X_test])"
   ]
  },
  {
   "cell_type": "markdown",
   "metadata": {},
   "source": [
    "#### Save model via Keras API"
   ]
  },
  {
   "cell_type": "code",
   "execution_count": 53,
   "metadata": {
    "scrolled": true
   },
   "outputs": [
    {
     "name": "stdout",
     "output_type": "stream",
     "text": [
      "(14893, 10000)\n",
      "(14893, 10000)\n",
      "(14893, 170)\n",
      "(14893, 170)\n",
      "(14893, 14)\n"
     ]
    }
   ],
   "source": [
    "print(desc_bow_test.shape)\n",
    "print(amen_bow_test.shape)\n",
    "print(test_desc_embed.shape)\n",
    "print(test_amen_embed.shape)\n",
    "print(X_test.shape)"
   ]
  },
  {
   "cell_type": "code",
   "execution_count": 54,
   "metadata": {},
   "outputs": [
    {
     "name": "stdout",
     "output_type": "stream",
     "text": [
      "WARNING:tensorflow:From c:\\users\\james\\.virtualenvs\\airbnb-predictor-594svdwv\\lib\\site-packages\\tensorflow\\python\\training\\tracking\\tracking.py:111: Model.state_updates (from tensorflow.python.keras.engine.training) is deprecated and will be removed in a future version.\n",
      "Instructions for updating:\n",
      "This property should not be used in TensorFlow 2.0, as updates are applied automatically.\n",
      "WARNING:tensorflow:From c:\\users\\james\\.virtualenvs\\airbnb-predictor-594svdwv\\lib\\site-packages\\tensorflow\\python\\training\\tracking\\tracking.py:111: Layer.updates (from tensorflow.python.keras.engine.base_layer) is deprecated and will be removed in a future version.\n",
      "Instructions for updating:\n",
      "This property should not be used in TensorFlow 2.0, as updates are applied automatically.\n",
      "INFO:tensorflow:Assets written to: ./AirBnB-Predictor\\assets\n"
     ]
    }
   ],
   "source": [
    "combined_model.save('./AirBnB-Predictor')"
   ]
  },
  {
   "cell_type": "code",
   "execution_count": 55,
   "metadata": {},
   "outputs": [],
   "source": [
    "reconstructed_model = keras.models.load_model('./AirBnB-Predictor')"
   ]
  },
  {
   "cell_type": "code",
   "execution_count": 56,
   "metadata": {
    "scrolled": false
   },
   "outputs": [
    {
     "data": {
      "text/plain": [
       "array([[ 69.872375],\n",
       "       [147.56064 ],\n",
       "       [141.30423 ],\n",
       "       ...,\n",
       "       [104.153015],\n",
       "       [ 49.422306],\n",
       "       [113.72507 ]], dtype=float32)"
      ]
     },
     "execution_count": 56,
     "metadata": {},
     "output_type": "execute_result"
    }
   ],
   "source": [
    "reconstructed_model.predict(([desc_bow_test, amen_bow_test] + [test_desc_embed] + [X_test]))"
   ]
  },
  {
   "cell_type": "code",
   "execution_count": 57,
   "metadata": {},
   "outputs": [
    {
     "data": {
      "text/plain": [
       "(4,)"
      ]
     },
     "execution_count": 57,
     "metadata": {},
     "output_type": "execute_result"
    }
   ],
   "source": [
    "np.asarray([desc_bow_test, amen_bow_test] + [test_desc_embed] + [X_test]).shape"
   ]
  },
  {
   "cell_type": "markdown",
   "metadata": {},
   "source": [
    "## Functions for preprocessing"
   ]
  },
  {
   "cell_type": "code",
   "execution_count": 58,
   "metadata": {},
   "outputs": [],
   "source": [
    "# Apply to description and amenities features\n",
    "def bow(data):\n",
    "    bow = data\n",
    "    vocab_size = 10000\n",
    "    tokenize = keras.preprocessing.text.Tokenizer(num_words=10000, char_level = False)\n",
    "    tokenize.fit_on_texts(bow)\n",
    "    bow = tokenize.texts_to_matrix(bow)\n",
    "    return bow"
   ]
  },
  {
   "cell_type": "code",
   "execution_count": 59,
   "metadata": {},
   "outputs": [],
   "source": [
    "# Apply to description and amenities features\n",
    "def seq_embed(data):\n",
    "    seq = data\n",
    "    seq = tokenize.texts_to_sequences(seq)\n",
    "    \n",
    "    max_seq_length = 170\n",
    "    \n",
    "    seq = keras.preprocessing.sequence.pad_sequences(\n",
    "    seq, maxlen = max_seq_length, padding = 'post')\n",
    "    \n",
    "    return seq"
   ]
  },
  {
   "cell_type": "code",
   "execution_count": 60,
   "metadata": {},
   "outputs": [],
   "source": [
    "X1 = bow(test['description'][2])\n",
    "X2 = bow(test['amenities'][2])"
   ]
  },
  {
   "cell_type": "code",
   "execution_count": 61,
   "metadata": {},
   "outputs": [],
   "source": [
    "Y1 = seq_embed(test['description'][2])\n",
    "Y2 = seq_embed(test['amenities'][2])"
   ]
  },
  {
   "cell_type": "code",
   "execution_count": 62,
   "metadata": {},
   "outputs": [
    {
     "name": "stdout",
     "output_type": "stream",
     "text": [
      "(224, 10000)\n"
     ]
    }
   ],
   "source": [
    "X1.shape\n",
    "print(X2.shape)"
   ]
  },
  {
   "cell_type": "code",
   "execution_count": 64,
   "metadata": {
    "scrolled": true
   },
   "outputs": [
    {
     "name": "stdout",
     "output_type": "stream",
     "text": [
      "(224, 10000)\n",
      "(462, 10000)\n",
      "(462, 170)\n",
      "(224, 170)\n"
     ]
    }
   ],
   "source": [
    "print(X2.shape)\n",
    "print(X1.shape)\n",
    "print(Y1.shape)\n",
    "print(Y2.shape)\n"
   ]
  },
  {
   "cell_type": "code",
   "execution_count": 65,
   "metadata": {},
   "outputs": [],
   "source": [
    "Z = X_test[19:20]"
   ]
  },
  {
   "cell_type": "code",
   "execution_count": 66,
   "metadata": {},
   "outputs": [],
   "source": [
    "Z = np.asarray(Z).astype('float32')"
   ]
  },
  {
   "cell_type": "code",
   "execution_count": 67,
   "metadata": {
    "scrolled": true
   },
   "outputs": [
    {
     "data": {
      "text/plain": [
       "(1, 14)"
      ]
     },
     "execution_count": 67,
     "metadata": {},
     "output_type": "execute_result"
    }
   ],
   "source": [
    "Z.shape"
   ]
  },
  {
   "cell_type": "code",
   "execution_count": null,
   "metadata": {},
   "outputs": [],
   "source": [
    "Z = pd.DataFrame(Z)"
   ]
  },
  {
   "cell_type": "code",
   "execution_count": null,
   "metadata": {
    "scrolled": true
   },
   "outputs": [],
   "source": [
    "# X1 = X1.reshape(1, -1)\n",
    "# X2 = X2.reshape(1, -1)\n",
    "# Y1 = Y1.reshape(1, -1)\n",
    "# Y2 = Y2.reshape(1, -1)\n",
    "# Z = Z.reshape(1, -1)"
   ]
  },
  {
   "cell_type": "code",
   "execution_count": null,
   "metadata": {},
   "outputs": [],
   "source": [
    "X1\n"
   ]
  },
  {
   "cell_type": "code",
   "execution_count": null,
   "metadata": {},
   "outputs": [],
   "source": [
    "X2.shape"
   ]
  },
  {
   "cell_type": "code",
   "execution_count": null,
   "metadata": {},
   "outputs": [],
   "source": [
    "combined_model.predict(([X1, X2] + [Y1, Y2] + [Z]))"
   ]
  },
  {
   "cell_type": "code",
   "execution_count": null,
   "metadata": {},
   "outputs": [],
   "source": [
    "# Apply to all other features of the dataset\n",
    "def encode(df):\n",
    "    df = df.astype('category')\n",
    "    cat_columns = df.select_dtypes(['category']).columns\n",
    "    cat_columns\n",
    "\n",
    "    df[cat_columns] = df[cat_columns].apply(lambda x: x.cat.codes)"
   ]
  },
  {
   "cell_type": "code",
   "execution_count": null,
   "metadata": {},
   "outputs": [],
   "source": [
    "# Model for just the numeric data\n",
    "model = keras.Sequential()\n",
    "\n",
    "model.add(Dense(256,\n",
    "                input_dim = 14,\n",
    "                activation = 'relu'))\n",
    "model.add(Dense(256, activation = 'relu'))\n",
    "model.add(Dense(1, activation = 'linear'))\n",
    "\n",
    "model.compile(loss='mse',\n",
    "                       optimizer='adam',\n",
    "                       metrics=['MeanAbsoluteError'])"
   ]
  },
  {
   "cell_type": "code",
   "execution_count": null,
   "metadata": {},
   "outputs": [],
   "source": [
    "model.summary()"
   ]
  },
  {
   "cell_type": "code",
   "execution_count": null,
   "metadata": {},
   "outputs": [],
   "source": [
    "model.fit(X,                   \n",
    "          y,\n",
    "          epochs = 30,\n",
    "          batch_size = 32)"
   ]
  },
  {
   "cell_type": "code",
   "execution_count": null,
   "metadata": {},
   "outputs": [],
   "source": [
    "model.predict(X_test[20:21])"
   ]
  },
  {
   "cell_type": "code",
   "execution_count": null,
   "metadata": {},
   "outputs": [],
   "source": [
    "pca = PCA(n_components = 2)\n",
    "X1 = pca.fit(X1)\n",
    "X2 = pca.fit(X2)\n",
    "Y1 = pca.fit(Y1)\n",
    "Y2 = pca.fit(Y2)\n",
    "# pca.fit(Z)"
   ]
  },
  {
   "cell_type": "code",
   "execution_count": null,
   "metadata": {},
   "outputs": [],
   "source": [
    "X1.n_features_"
   ]
  },
  {
   "cell_type": "code",
   "execution_count": null,
   "metadata": {},
   "outputs": [],
   "source": []
  }
 ],
 "metadata": {
  "kernelspec": {
   "display_name": "Python 3",
   "language": "python",
   "name": "python3"
  },
  "language_info": {
   "codemirror_mode": {
    "name": "ipython",
    "version": 3
   },
   "file_extension": ".py",
   "mimetype": "text/x-python",
   "name": "python",
   "nbconvert_exporter": "python",
   "pygments_lexer": "ipython3",
   "version": "3.8.5"
  }
 },
 "nbformat": 4,
 "nbformat_minor": 4
}
